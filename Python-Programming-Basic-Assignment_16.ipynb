{
 "cells": [
  {
   "cell_type": "markdown",
   "id": "4b07773f",
   "metadata": {},
   "source": [
    "Question1. Write a function that stutters a word as if someone is struggling to read it. The\n",
    "first two letters are repeated twice with an ellipsis ... and space after each, and then the\n",
    "word is pronounced with a question mark ?."
   ]
  },
  {
   "cell_type": "code",
   "execution_count": 1,
   "id": "46acf44c",
   "metadata": {},
   "outputs": [
    {
     "data": {
      "text/plain": [
       "'in... in...  incredible?'"
      ]
     },
     "execution_count": 1,
     "metadata": {},
     "output_type": "execute_result"
    }
   ],
   "source": [
    "#ANSWER 1\n",
    "def stutter(n):\n",
    "    return f'{n[:2]}... {n[:2]}...  {n}?'\n",
    "stutter('incredible')"
   ]
  },
  {
   "cell_type": "markdown",
   "id": "298c5fa2",
   "metadata": {},
   "source": [
    "Question 2.Create a function that takes an angle in radians and returns the corresponding\n",
    "angle in degrees rounded to one decimal place."
   ]
  },
  {
   "cell_type": "code",
   "execution_count": 2,
   "id": "dc4f2a16",
   "metadata": {},
   "outputs": [
    {
     "data": {
      "text/plain": [
       "57.3"
      ]
     },
     "execution_count": 2,
     "metadata": {},
     "output_type": "execute_result"
    }
   ],
   "source": [
    "#ANSWER 2\n",
    "def Radian_to_Degree(n):\n",
    "    return round(n*57.295779513,1)\n",
    "Radian_to_Degree(1)"
   ]
  },
  {
   "cell_type": "markdown",
   "id": "87c047f0",
   "metadata": {},
   "source": [
    "Question 3. In this challenge, establish if a given integer num is a Curzon number. If 1 plus 2 elevated to num is exactly divisible by 1 plus 2 multiplied by num, then num is a Curzon number.\n",
    "Given a non-negative integer num, implement a function that returns True if num is a Curzon\n",
    "number, or False otherwise."
   ]
  },
  {
   "cell_type": "code",
   "execution_count": 3,
   "id": "4824902d",
   "metadata": {},
   "outputs": [
    {
     "data": {
      "text/plain": [
       "False"
      ]
     },
     "execution_count": 3,
     "metadata": {},
     "output_type": "execute_result"
    }
   ],
   "source": [
    "#ANSWER 3\n",
    "def Curzon(n):\n",
    "    if (2 ** n + 1) % (2 * n + 1) == 0:\n",
    "        return True\n",
    "    else:\n",
    "        return False\n",
    "Curzon(44)"
   ]
  },
  {
   "cell_type": "markdown",
   "id": "68d4924d",
   "metadata": {},
   "source": [
    "Question 4.Given the side length x find the area of a hexagon."
   ]
  },
  {
   "cell_type": "code",
   "execution_count": 4,
   "id": "dd6d9fd4",
   "metadata": {},
   "outputs": [
    {
     "data": {
      "text/plain": [
       "65.0"
      ]
     },
     "execution_count": 4,
     "metadata": {},
     "output_type": "execute_result"
    }
   ],
   "source": [
    "#ANSWER 4\n",
    "def area(n):\n",
    "    return round((3 * (3 ** (1/2) * (n ** 2))) / 2, 1)\n",
    "area(5)"
   ]
  },
  {
   "cell_type": "markdown",
   "id": "a4d93b5b",
   "metadata": {},
   "source": [
    "Question 5. Create a function that returns a base-2 (binary) representation of a base-10\n",
    "(decimal) string number. To convert is simple: ((2) means base-2 and (10) means base-10)\n",
    "010101001(2) = 1 + 8 + 32 + 128.\n",
    "Going from right to left, the value of the most right bit is 1, now from that every bit to the left\n",
    "will be x2 the value, value of an 8 bit binary numbers are (256, 128, 64, 32, 16, 8, 4, 2, 1)."
   ]
  },
  {
   "cell_type": "code",
   "execution_count": 5,
   "id": "6d6a379a",
   "metadata": {},
   "outputs": [
    {
     "data": {
      "text/plain": [
       "'1'"
      ]
     },
     "execution_count": 5,
     "metadata": {},
     "output_type": "execute_result"
    }
   ],
   "source": [
    "#ANSWER 5\n",
    "def binary(n):\n",
    "    s = []\n",
    "    while n >= 1:\n",
    "        s.append(n % 2)\n",
    "        n = n // 2\n",
    "    return ''.join([str(i) for i in reversed(s)])\n",
    "binary(1)"
   ]
  }
 ],
 "metadata": {
  "kernelspec": {
   "display_name": "Python 3 (ipykernel)",
   "language": "python",
   "name": "python3"
  },
  "language_info": {
   "codemirror_mode": {
    "name": "ipython",
    "version": 3
   },
   "file_extension": ".py",
   "mimetype": "text/x-python",
   "name": "python",
   "nbconvert_exporter": "python",
   "pygments_lexer": "ipython3",
   "version": "3.9.7"
  }
 },
 "nbformat": 4,
 "nbformat_minor": 5
}
