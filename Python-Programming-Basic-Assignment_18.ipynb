{
 "cells": [
  {
   "cell_type": "markdown",
   "id": "eee394de",
   "metadata": {},
   "source": [
    "Question 1\n",
    "Create a function that takes a list of non-negative integers and strings and return a new list\n",
    "without the strings."
   ]
  },
  {
   "cell_type": "code",
   "execution_count": 1,
   "id": "a01b6dff",
   "metadata": {},
   "outputs": [
    {
     "data": {
      "text/plain": [
       "[1, 2]"
      ]
     },
     "execution_count": 1,
     "metadata": {},
     "output_type": "execute_result"
    }
   ],
   "source": [
    "#ANSWER 1\n",
    "def filter_list(n):\n",
    "    return [i for i in n if type(i) == int and i >= 0]\n",
    "filter_list([1, 2, 'a', 'b'])"
   ]
  },
  {
   "cell_type": "markdown",
   "id": "6ff857ac",
   "metadata": {},
   "source": [
    "Question 2\n",
    "The 'Reverser' takes a string as input and returns that string in reverse order, with the\n",
    "opposite case."
   ]
  },
  {
   "cell_type": "code",
   "execution_count": 2,
   "id": "b9639830",
   "metadata": {},
   "outputs": [
    {
     "data": {
      "text/plain": [
       "['r', 'A', 'D', 'A', 'R']"
      ]
     },
     "execution_count": 2,
     "metadata": {},
     "output_type": "execute_result"
    }
   ],
   "source": [
    "#ANSWER 2\n",
    "def reverse(n):\n",
    "    n = [i for i in n]\n",
    "    for i in range(len(n)):\n",
    "        if n[i].isupper():\n",
    "            n[i] = n[i].lower()\n",
    "        elif n[i].islower():\n",
    "            n[i] = n[i].upper()\n",
    "    return n\n",
    "reverse('Radar')"
   ]
  },
  {
   "cell_type": "markdown",
   "id": "a6cd7fa9",
   "metadata": {},
   "source": [
    "Question 3\n",
    "You can assign variables from lists like this:\n",
    "lst = [1, 2, 3, 4, 5, 6]\n",
    "first = lst[0]\n",
    "middle = lst[1:-1]\n",
    "last = lst[-1]\n",
    "print(first) ➞ outputs 1\n",
    "print(middle) ➞ outputs [2, 3, 4, 5]\n",
    "print(last) ➞ outputs 6\n",
    "With Python 3, you can assign variables from lists in a much more succinct way. Create\n",
    "variables first, middle and last from the given list using destructuring assignment\n",
    "(check the Resources tab for some examples), where:\n",
    "first ➞ 1\n",
    "middle ➞ [2, 3, 4, 5]\n",
    "last ➞ 6\n",
    "\n",
    "Your task is to unpack the list writeyourcodehere into three variables, being first,\n",
    "middle, and last, with middle being everything in between the first and last element. Then\n",
    "print all three variables."
   ]
  },
  {
   "cell_type": "code",
   "execution_count": 3,
   "id": "6fc643fb",
   "metadata": {},
   "outputs": [
    {
     "name": "stdout",
     "output_type": "stream",
     "text": [
      "first  1\n",
      "middle  [2, 3, 4, 5]\n",
      "last  6\n"
     ]
    }
   ],
   "source": [
    "#ANSWER 3\n",
    "def unpack(n):\n",
    "    return n[0], n[1:-1], n[-1]\n",
    "first, middle, last = unpack([1, 2, 3, 4, 5, 6])\n",
    "print('first ', first)\n",
    "print('middle ', middle)\n",
    "print('last ',last)"
   ]
  },
  {
   "cell_type": "markdown",
   "id": "b4e8e4bf",
   "metadata": {},
   "source": [
    "Question 4\n",
    "Write a function that calculates the factorial of a number recursively."
   ]
  },
  {
   "cell_type": "code",
   "execution_count": 4,
   "id": "5891aa0a",
   "metadata": {},
   "outputs": [
    {
     "data": {
      "text/plain": [
       "120"
      ]
     },
     "execution_count": 4,
     "metadata": {},
     "output_type": "execute_result"
    }
   ],
   "source": [
    "#ANSWER 4\n",
    "def Factorial(n):\n",
    "    if n == 1:\n",
    "        return 1\n",
    "    return n * Factorial(n-1)\n",
    "Factorial(5)"
   ]
  },
  {
   "cell_type": "markdown",
   "id": "f9a7fdbb",
   "metadata": {},
   "source": [
    "Question 5\n",
    "Write a function that moves all elements of one type to the end of the list."
   ]
  },
  {
   "cell_type": "code",
   "execution_count": 5,
   "id": "972a0f64",
   "metadata": {},
   "outputs": [
    {
     "data": {
      "text/plain": [
       "[3, 2, 4, 4, 1, 1]"
      ]
     },
     "execution_count": 5,
     "metadata": {},
     "output_type": "execute_result"
    }
   ],
   "source": [
    "#ANSWER 5\n",
    "def end_element(n,delete):\n",
    "    for i in n:\n",
    "        if i == delete:\n",
    "            n.remove(i)\n",
    "            n.append(i)\n",
    "    return n\n",
    "end_element([1, 3, 2, 4, 4, 1], 1)"
   ]
  }
 ],
 "metadata": {
  "kernelspec": {
   "display_name": "Python 3 (ipykernel)",
   "language": "python",
   "name": "python3"
  },
  "language_info": {
   "codemirror_mode": {
    "name": "ipython",
    "version": 3
   },
   "file_extension": ".py",
   "mimetype": "text/x-python",
   "name": "python",
   "nbconvert_exporter": "python",
   "pygments_lexer": "ipython3",
   "version": "3.9.7"
  }
 },
 "nbformat": 4,
 "nbformat_minor": 5
}
