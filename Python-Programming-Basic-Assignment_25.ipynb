{
 "cells": [
  {
   "cell_type": "markdown",
   "id": "10a6fe48",
   "metadata": {},
   "source": [
    "Question1\n",
    "Create a function that takes three integer arguments (a, b, c) and returns the amount of\n",
    "integers which are of equal value.\n",
    "Examples\n",
    "equal(3, 4, 3) ➞ 2\n",
    "equal(1, 1, 1) ➞ 3\n",
    "equal(3, 4, 1) ➞ 0\n",
    "Notes\n",
    "Your function must return 0, 2 or 3."
   ]
  },
  {
   "cell_type": "code",
   "execution_count": 1,
   "id": "5a3829ca",
   "metadata": {},
   "outputs": [
    {
     "data": {
      "text/plain": [
       "3"
      ]
     },
     "execution_count": 1,
     "metadata": {},
     "output_type": "execute_result"
    }
   ],
   "source": [
    "#ANSWER 1\n",
    "def equal(a,b,c):\n",
    "    if a != b and b != c and c != a:\n",
    "        return 0\n",
    "    elif a == b and b == c and c == a:\n",
    "        return 3\n",
    "    return 2\n",
    "equal(1,1,1)"
   ]
  },
  {
   "cell_type": "markdown",
   "id": "5542cfdb",
   "metadata": {},
   "source": [
    "Question2\n",
    "Write a function that converts a dictionary into a list of keys-values tuples."
   ]
  },
  {
   "cell_type": "code",
   "execution_count": 2,
   "id": "88d1fc0f",
   "metadata": {},
   "outputs": [
    {
     "data": {
      "text/plain": [
       "[('a', 1), ('b', 2), ('c', 3)]"
      ]
     },
     "execution_count": 2,
     "metadata": {},
     "output_type": "execute_result"
    }
   ],
   "source": [
    "#ANSWER 2\n",
    "def dict_list(n):\n",
    "    return [i for i in n.items()]\n",
    "dict_list({'a':1,'b':2,'c':3})"
   ]
  },
  {
   "cell_type": "markdown",
   "id": "53999828",
   "metadata": {},
   "source": [
    "Question3\n",
    "Write a function that creates a dictionary with each (key, value) pair being the (lower case,\n",
    "upper case) versions of a letter, respectively."
   ]
  },
  {
   "cell_type": "code",
   "execution_count": 3,
   "id": "9c2b9e2f",
   "metadata": {},
   "outputs": [
    {
     "data": {
      "text/plain": [
       "{'p': 'P', 's': 'S'}"
      ]
     },
     "execution_count": 3,
     "metadata": {},
     "output_type": "execute_result"
    }
   ],
   "source": [
    "#ANSWER 3\n",
    "def dictionary(n):\n",
    "    new = {}\n",
    "    for i in n:\n",
    "        new[i] = i.upper()\n",
    "    return new\n",
    "dictionary(['p','s'])"
   ]
  },
  {
   "cell_type": "markdown",
   "id": "cd1e5040",
   "metadata": {},
   "source": [
    "Question4\n",
    "Write a function, that replaces all vowels in a string with a specified vowel."
   ]
  },
  {
   "cell_type": "code",
   "execution_count": 4,
   "id": "d90f6a3f",
   "metadata": {},
   "outputs": [
    {
     "data": {
      "text/plain": [
       "'chooso cossorolo'"
      ]
     },
     "execution_count": 4,
     "metadata": {},
     "output_type": "execute_result"
    }
   ],
   "source": [
    "#ANSWER 4\n",
    "def replace_val(n,m):\n",
    "    for i in n:\n",
    "        if i in 'aeiouAEIOU':\n",
    "            n = n.replace(i,m)\n",
    "    return n\n",
    "replace_val('cheese casserole', 'o')"
   ]
  },
  {
   "cell_type": "markdown",
   "id": "54882af8",
   "metadata": {},
   "source": [
    "Question5\n",
    "Create a function that takes a string as input and capitalizes a letter if its ASCII code is even\n",
    "and returns its lower case version if its ASCII code is odd."
   ]
  },
  {
   "cell_type": "code",
   "execution_count": 5,
   "id": "75379ae9",
   "metadata": {},
   "outputs": [
    {
     "data": {
      "text/plain": [
       "'To Be oR NoT To Be!'"
      ]
     },
     "execution_count": 5,
     "metadata": {},
     "output_type": "execute_result"
    }
   ],
   "source": [
    "#ANSWER 5\n",
    "def ascii_code(n):\n",
    "    n = [i for i in n]\n",
    "    for i,j in enumerate(n):\n",
    "        if ord(j) % 2 == 0:\n",
    "            n[i] = j.upper()\n",
    "        else:\n",
    "            n[i] = j.lower()\n",
    "    return ''.join(n)\n",
    "ascii_code('to be or not to be!')"
   ]
  }
 ],
 "metadata": {
  "kernelspec": {
   "display_name": "Python 3 (ipykernel)",
   "language": "python",
   "name": "python3"
  },
  "language_info": {
   "codemirror_mode": {
    "name": "ipython",
    "version": 3
   },
   "file_extension": ".py",
   "mimetype": "text/x-python",
   "name": "python",
   "nbconvert_exporter": "python",
   "pygments_lexer": "ipython3",
   "version": "3.9.7"
  }
 },
 "nbformat": 4,
 "nbformat_minor": 5
}
