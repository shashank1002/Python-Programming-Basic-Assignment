{
 "cells": [
  {
   "cell_type": "code",
   "execution_count": 1,
   "id": "67eebf31",
   "metadata": {},
   "outputs": [
    {
     "data": {
      "text/plain": [
       "[46, 56]"
      ]
     },
     "execution_count": 1,
     "metadata": {},
     "output_type": "execute_result"
    }
   ],
   "source": [
    "#1. Write a Python program to Extract Unique values dictionary values?\n",
    "def Unique(n):\n",
    "    n = list(n.values())\n",
    "    return [i for i in n if n.count(i)<2]\n",
    "Unique({'motu':32,'patlu':32,'kitu':46,'jack':45,'don':56,'jon':45})"
   ]
  },
  {
   "cell_type": "code",
   "execution_count": 2,
   "id": "279e7066",
   "metadata": {},
   "outputs": [
    {
     "data": {
      "text/plain": [
       "256"
      ]
     },
     "execution_count": 2,
     "metadata": {},
     "output_type": "execute_result"
    }
   ],
   "source": [
    "#2. Write a Python program to find the sum of all items in a dictionary?\n",
    "def Sum(n):\n",
    "    return sum(tuple(n.values()))\n",
    "Sum({'motu':32,'patlu':32,'kitu':46,'jack':45,'don':56,'jon':45})"
   ]
  },
  {
   "cell_type": "code",
   "execution_count": 3,
   "id": "61936c89",
   "metadata": {},
   "outputs": [
    {
     "data": {
      "text/plain": [
       "{'motu': 32, 'patlu': 32, 'kitu': 46, 'jack': 45, 'don': 56, 'jon': 45}"
      ]
     },
     "execution_count": 3,
     "metadata": {},
     "output_type": "execute_result"
    }
   ],
   "source": [
    "#3. Write a Python program to Merging two Dictionaries?\n",
    "def Merge(n,m):\n",
    "    n.update(m)\n",
    "    return n\n",
    "Merge({'motu':32,'patlu':32,'kitu':46},{'jack':45,'don':56,'jon':45})"
   ]
  },
  {
   "cell_type": "code",
   "execution_count": 4,
   "id": "65dfc96d",
   "metadata": {},
   "outputs": [
    {
     "data": {
      "text/plain": [
       "['don', 'jack', 'jon', 'kitu', 'motu', 'patlu']"
      ]
     },
     "execution_count": 4,
     "metadata": {},
     "output_type": "execute_result"
    }
   ],
   "source": [
    "d={'motu':32,'patlu':32,'kitu':46,'jack':45,'don':56,'jon':45}\n",
    "sorted(d)"
   ]
  },
  {
   "cell_type": "code",
   "execution_count": 5,
   "id": "359ef4b7",
   "metadata": {},
   "outputs": [
    {
     "data": {
      "text/plain": [
       "{'kitu': 46,\n",
       " 'jack': 45,\n",
       " 'don': 56,\n",
       " 'jon': 45,\n",
       " 'nick_motu': 32,\n",
       " 'nick_patlu': 32}"
      ]
     },
     "execution_count": 5,
     "metadata": {},
     "output_type": "execute_result"
    }
   ],
   "source": [
    "#4. Write a Python program to convert key-values list to flat dictionary?\n",
    "import pandas as pd\n",
    "def flat(n):\n",
    "    n = pd.json_normalize(n,sep = '_')\n",
    "    return n.to_dict(orient = 'records')[0]\n",
    "flat({'nick':{'motu':32,'patlu':32},'kitu':46,'jack':45,'don':56,'jon':45})"
   ]
  },
  {
   "cell_type": "code",
   "execution_count": 6,
   "id": "4928d092",
   "metadata": {},
   "outputs": [
    {
     "data": {
      "text/plain": [
       "OrderedDict([('patlu', 32),\n",
       "             ('motu', 32),\n",
       "             ('kitu', 46),\n",
       "             ('jack', 45),\n",
       "             ('don', 56)])"
      ]
     },
     "execution_count": 6,
     "metadata": {},
     "output_type": "execute_result"
    }
   ],
   "source": [
    "#5. Write a Python program to insertion at the beginning in OrderedDict?\n",
    "import collections\n",
    "def Insert(n):\n",
    "    \"\"\"input as ('motu',2)\"\"\"\n",
    "    m = collections.OrderedDict([('motu',32),('kitu',46),('jack',45),('don',56)])\n",
    "    n.update(m)\n",
    "    return n\n",
    "Insert(collections.OrderedDict([('patlu',32)]))"
   ]
  },
  {
   "cell_type": "code",
   "execution_count": 7,
   "id": "e2c62ef4",
   "metadata": {},
   "outputs": [
    {
     "data": {
      "text/plain": [
       "True"
      ]
     },
     "execution_count": 7,
     "metadata": {},
     "output_type": "execute_result"
    }
   ],
   "source": [
    "#6. Write a Python program to check order of character in string using OrderedDict()?\n",
    "import collections\n",
    "def Order(n,o):\n",
    "    n = collections.OrderedDict.fromkeys(n)\n",
    "    prev = 0\n",
    "    for i in n.keys():\n",
    "        if i == o[prev]:\n",
    "            prev = prev + 1\n",
    "            \n",
    "        if prev == len(o):\n",
    "            return True\n",
    "    return False\n",
    "Order('python','on')"
   ]
  },
  {
   "cell_type": "code",
   "execution_count": 8,
   "id": "556b2bd2",
   "metadata": {},
   "outputs": [
    {
     "data": {
      "text/plain": [
       "['don', 'jack', 'jon', 'kitu', 'motu', 'patlu']"
      ]
     },
     "execution_count": 8,
     "metadata": {},
     "output_type": "execute_result"
    }
   ],
   "source": [
    "#7. Write a Python program to sort Python Dictionaries by Key or Value?\n",
    "def Sort(n):\n",
    "    return sorted(n)\n",
    "Sort({'motu':32,'patlu':32,'kitu':46,'jack':45,'don':56,'jon':45})"
   ]
  }
 ],
 "metadata": {
  "kernelspec": {
   "display_name": "Python 3 (ipykernel)",
   "language": "python",
   "name": "python3"
  },
  "language_info": {
   "codemirror_mode": {
    "name": "ipython",
    "version": 3
   },
   "file_extension": ".py",
   "mimetype": "text/x-python",
   "name": "python",
   "nbconvert_exporter": "python",
   "pygments_lexer": "ipython3",
   "version": "3.9.7"
  }
 },
 "nbformat": 4,
 "nbformat_minor": 5
}
