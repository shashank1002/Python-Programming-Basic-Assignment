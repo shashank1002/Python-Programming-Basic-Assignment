{
 "cells": [
  {
   "cell_type": "code",
   "execution_count": 1,
   "id": "5ee8b99e",
   "metadata": {},
   "outputs": [
    {
     "name": "stdout",
     "output_type": "stream",
     "text": [
      "Enter the value = 24\n",
      "24.0 km = 14.912908559999998 m\n"
     ]
    }
   ],
   "source": [
    "#1 Write a Python program to convert kilometers to miles?\n",
    "\n",
    "kilometers = float(input(\"Enter the value = \"))\n",
    "miles = kilometers * 0.62137119\n",
    "print(f\"{kilometers} km = {miles} m\")"
   ]
  },
  {
   "cell_type": "code",
   "execution_count": 2,
   "id": "89085339",
   "metadata": {},
   "outputs": [
    {
     "name": "stdout",
     "output_type": "stream",
     "text": [
      "Enter the value = 0\n",
      "0.0 C = 32.0 F\n"
     ]
    }
   ],
   "source": [
    "#2 Write a Python program to convert Celsius to Fahrenheit?\n",
    "\n",
    "Celsius = float(input(\"Enter the value = \"))\n",
    "Fahrenheit = 32 + (Celsius * 1.8)\n",
    "print(f\"{Celsius} C = {Fahrenheit} F\")"
   ]
  },
  {
   "cell_type": "code",
   "execution_count": 3,
   "id": "5c5bc50a",
   "metadata": {},
   "outputs": [
    {
     "name": "stdout",
     "output_type": "stream",
     "text": [
      "enter the year 2023\n",
      "enter the month 5\n",
      "      May 2023\n",
      "Mo Tu We Th Fr Sa Su\n",
      " 1  2  3  4  5  6  7\n",
      " 8  9 10 11 12 13 14\n",
      "15 16 17 18 19 20 21\n",
      "22 23 24 25 26 27 28\n",
      "29 30 31\n",
      "\n"
     ]
    }
   ],
   "source": [
    "#3 Write a Python program to display calendar?\n",
    "\n",
    "import calendar\n",
    "yy = int(input(\"enter the year \"))\n",
    "mm = int(input(\"enter the month \"))\n",
    "print(calendar.month(yy,mm))"
   ]
  },
  {
   "cell_type": "code",
   "execution_count": 5,
   "id": "160f17be",
   "metadata": {
    "scrolled": false
   },
   "outputs": [
    {
     "name": "stdout",
     "output_type": "stream",
     "text": [
      "enter the value of a = 2\n",
      "enter the value of b = 4\n",
      "enter the value of c = 5\n",
      "equation 2x^2 + 4x +5 = 0\n",
      "Discriminant =  -24\n",
      "x = (-0.9999999999999999+1.224744871391589j), (-0.9999999999999999+1.224744871391589j)\n",
      "get complex sol.\n"
     ]
    }
   ],
   "source": [
    "#4 Write a Python program to solve quadratic equation?\n",
    "\n",
    "x1 = 0\n",
    "x2 = 0\n",
    "a = int(input(\"enter the value of a = \"))\n",
    "b = int(input(\"enter the value of b = \"))\n",
    "c = int(input(\"enter the value of c = \"))\n",
    "print(f\"equation {a}x^2 + {b}x +{c} = 0\")\n",
    "if a != 0:\n",
    "    Discriminant = (b**2) - (4*a*c)\n",
    "    print(\"Discriminant = \", Discriminant)\n",
    "    x1 = (-b + ((Discriminant)**0.5))/(2*a)\n",
    "    x2 = (-b + ((Discriminant)**0.5))/(2*a)\n",
    "    if Discriminant == 0:\n",
    "        print(f\"x = {x1}\")\n",
    "        print(\"only one root.\")\n",
    "    elif Discriminant < 0:\n",
    "        print(f\"x = {x1}, {x2}\")\n",
    "        print(\"get complex sol.\")\n",
    "    else:\n",
    "        print(f\"x = {x1}, {x2}\")\n",
    "        print(\"get two real solutions.\")"
   ]
  },
  {
   "cell_type": "code",
   "execution_count": 6,
   "id": "602e1b0e",
   "metadata": {
    "scrolled": false
   },
   "outputs": [
    {
     "name": "stdout",
     "output_type": "stream",
     "text": [
      "32\n",
      "4\n",
      "a before swap =  32\n",
      "b before swap =  4\n",
      "a after swap =  4\n",
      "b after swap =  32\n"
     ]
    }
   ],
   "source": [
    "#5 Write a Python program to swap two variables without temp variable?\n",
    "\n",
    "a = int(input())\n",
    "b = int(input())\n",
    "print(\"a before swap = \",a)\n",
    "print(\"b before swap = \",b)\n",
    "a = a + b\n",
    "b = a - b\n",
    "a = a - b\n",
    "print(\"a after swap = \",a)\n",
    "print(\"b after swap = \",b)"
   ]
  }
 ],
 "metadata": {
  "kernelspec": {
   "display_name": "Python 3 (ipykernel)",
   "language": "python",
   "name": "python3"
  },
  "language_info": {
   "codemirror_mode": {
    "name": "ipython",
    "version": 3
   },
   "file_extension": ".py",
   "mimetype": "text/x-python",
   "name": "python",
   "nbconvert_exporter": "python",
   "pygments_lexer": "ipython3",
   "version": "3.9.7"
  }
 },
 "nbformat": 4,
 "nbformat_minor": 5
}
