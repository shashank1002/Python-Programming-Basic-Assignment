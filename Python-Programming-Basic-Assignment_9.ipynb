{
 "cells": [
  {
   "cell_type": "code",
   "execution_count": 1,
   "id": "ff9c8b29",
   "metadata": {},
   "outputs": [
    {
     "data": {
      "text/plain": [
       "True"
      ]
     },
     "execution_count": 1,
     "metadata": {},
     "output_type": "execute_result"
    }
   ],
   "source": [
    "#1. Write a Python program to check if the given number is a Disarium Number?\n",
    "def disarium(n):\n",
    "    value = 0\n",
    "    for i,g in enumerate(str(n)):\n",
    "        value += int(g) ** (i+1)\n",
    "    if value == n:\n",
    "        return True\n",
    "    return False\n",
    "disarium(175)"
   ]
  },
  {
   "cell_type": "code",
   "execution_count": 2,
   "id": "6315b55d",
   "metadata": {},
   "outputs": [
    {
     "name": "stdout",
     "output_type": "stream",
     "text": [
      "1\n",
      "2\n",
      "3\n",
      "4\n",
      "5\n",
      "6\n",
      "7\n",
      "8\n",
      "9\n",
      "89\n"
     ]
    }
   ],
   "source": [
    "#2. Write a Python program to print all disarium numbers between 1 to 100?\n",
    "def disarium(n):\n",
    "    value = 0\n",
    "    for i,g in enumerate(str(n)):\n",
    "        value += int(g) ** (i+1)\n",
    "    if value == n:\n",
    "        return True\n",
    "    return False\n",
    "for i in range(1,100):\n",
    "    a=disarium(i)\n",
    "    if a == True:\n",
    "        print(i)"
   ]
  },
  {
   "cell_type": "code",
   "execution_count": 3,
   "id": "13fac5b4",
   "metadata": {},
   "outputs": [
    {
     "data": {
      "text/plain": [
       "True"
      ]
     },
     "execution_count": 3,
     "metadata": {},
     "output_type": "execute_result"
    }
   ],
   "source": [
    "#3. Write a Python program to check if the given number is Happy Number?\n",
    "def Happy(n):\n",
    "    mult = []\n",
    "    while(n!=1):\n",
    "        n = sum(int(i) ** 2 for i in str(n))\n",
    "        if n in mult:\n",
    "            return False\n",
    "        mult.append(n)\n",
    "    return True\n",
    "Happy(7)"
   ]
  },
  {
   "cell_type": "code",
   "execution_count": 4,
   "id": "3a136be3",
   "metadata": {},
   "outputs": [
    {
     "name": "stdout",
     "output_type": "stream",
     "text": [
      "1\n",
      "7\n",
      "10\n",
      "13\n",
      "19\n",
      "23\n",
      "28\n",
      "31\n",
      "32\n",
      "44\n",
      "49\n",
      "68\n",
      "70\n",
      "79\n",
      "82\n",
      "86\n",
      "91\n",
      "94\n",
      "97\n"
     ]
    }
   ],
   "source": [
    "#4. Write a Python program to print all happy numbers between 1 and 100?\n",
    "def Happy(n):\n",
    "    mult = []\n",
    "    while(n!=1):\n",
    "        n = sum(int(i) ** 2 for i in str(n))\n",
    "        if n in mult:\n",
    "            return False\n",
    "        mult.append(n)\n",
    "    return True\n",
    "for i in range(1,100):\n",
    "    a=Happy(i)\n",
    "    if a == True:\n",
    "        print(i)"
   ]
  },
  {
   "cell_type": "code",
   "execution_count": 5,
   "id": "2e2fe8df",
   "metadata": {},
   "outputs": [
    {
     "data": {
      "text/plain": [
       "True"
      ]
     },
     "execution_count": 5,
     "metadata": {},
     "output_type": "execute_result"
    }
   ],
   "source": [
    "#5. Write a Python program to determine whether the given number is a Harshad Number?\n",
    "def harshad(n):\n",
    "    value = 0\n",
    "    for i in str(n):\n",
    "        value += int(i)\n",
    "    if n % value == 0:\n",
    "        return True\n",
    "    return False\n",
    "harshad(114)"
   ]
  },
  {
   "cell_type": "code",
   "execution_count": 6,
   "id": "412503ea",
   "metadata": {},
   "outputs": [
    {
     "data": {
      "text/plain": [
       "[0, 2, 6, 12, 20, 30, 42, 56, 72, 90, 110]"
      ]
     },
     "execution_count": 6,
     "metadata": {},
     "output_type": "execute_result"
    }
   ],
   "source": [
    "#6. Write a Python program to print all pronic numbers between 1 and 100?\n",
    "\n",
    "def pronic(start,end):\n",
    "    num = [0]\n",
    "    for i in range(start,end):\n",
    "        num.append(i*(i+1))\n",
    "    return num\n",
    "pronic(1,11)"
   ]
  }
 ],
 "metadata": {
  "kernelspec": {
   "display_name": "Python 3 (ipykernel)",
   "language": "python",
   "name": "python3"
  },
  "language_info": {
   "codemirror_mode": {
    "name": "ipython",
    "version": 3
   },
   "file_extension": ".py",
   "mimetype": "text/x-python",
   "name": "python",
   "nbconvert_exporter": "python",
   "pygments_lexer": "ipython3",
   "version": "3.9.7"
  }
 },
 "nbformat": 4,
 "nbformat_minor": 5
}
