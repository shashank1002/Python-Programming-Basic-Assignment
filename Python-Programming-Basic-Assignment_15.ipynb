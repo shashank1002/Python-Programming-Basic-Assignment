{
 "cells": [
  {
   "cell_type": "markdown",
   "id": "97ce29dd",
   "metadata": {},
   "source": [
    "Question 1:\n",
    "Please write a program using generator to print the numbers which can be divisible by 5 and\n",
    "7 between 0 and n in comma separated form while n is input by console."
   ]
  },
  {
   "cell_type": "code",
   "execution_count": 1,
   "id": "176cae70",
   "metadata": {},
   "outputs": [
    {
     "name": "stdout",
     "output_type": "stream",
     "text": [
      "0,35,70\n"
     ]
    }
   ],
   "source": [
    "#ANSWER 1\n",
    "def div_5_7(n):\n",
    "    yield ','.join([str(i) for i in range(n) if i % 5 == 0 and i % 7 == 0])\n",
    "for i in div_5_7(100):\n",
    "    print(i)"
   ]
  },
  {
   "cell_type": "markdown",
   "id": "3c1bb6e9",
   "metadata": {},
   "source": [
    "Question 2:\n",
    "Please write a program using generator to print the even numbers between 0 and n in comma\n",
    "separated form while n is input by console."
   ]
  },
  {
   "cell_type": "code",
   "execution_count": 2,
   "id": "081e4d61",
   "metadata": {},
   "outputs": [
    {
     "name": "stdout",
     "output_type": "stream",
     "text": [
      "0,2,4,6,8\n"
     ]
    }
   ],
   "source": [
    "#ANSWER 2\n",
    "def Even(n):\n",
    "    yield ','.join([str(i) for i in range(n) if i % 2 == 0])\n",
    "for i in Even(10):\n",
    "    print(i)"
   ]
  },
  {
   "cell_type": "markdown",
   "id": "6387620b",
   "metadata": {},
   "source": [
    "Question 3:\n",
    "The Fibonacci Sequence is computed based on the following formula:\n",
    "f(n)=0 if n=0\n",
    "f(n)=1 if n=1\n",
    "f(n)=f(n-1)+f(n-2) if n>1\n",
    "Please write a program using list comprehension to print the Fibonacci Sequence in comma\n",
    "separated form with a given n input by console.\n"
   ]
  },
  {
   "cell_type": "code",
   "execution_count": 3,
   "id": "f584d89c",
   "metadata": {},
   "outputs": [
    {
     "name": "stdout",
     "output_type": "stream",
     "text": [
      "0,1,1,2,3,5,8,13,21,34\n"
     ]
    }
   ],
   "source": [
    "#ANSWER 3\n",
    "def fibonacci(n):\n",
    "    a=0\n",
    "    b=1\n",
    "    for i in range(10):\n",
    "        yield a\n",
    "        a,b = b,a+b\n",
    "\n",
    "print(','.join([str(i) for i in fibonacci(10)]))"
   ]
  },
  {
   "cell_type": "markdown",
   "id": "70969744",
   "metadata": {},
   "source": [
    "Question 4:\n",
    "Assuming that we have some email addresses in the &quot;username@companyname.com&quot; format,\n",
    "please write program to print the user name of a given email address. Both user names and\n",
    "company names are composed of letters only."
   ]
  },
  {
   "cell_type": "code",
   "execution_count": 4,
   "id": "c612f8b6",
   "metadata": {},
   "outputs": [
    {
     "data": {
      "text/plain": [
       "'john'"
      ]
     },
     "execution_count": 4,
     "metadata": {},
     "output_type": "execute_result"
    }
   ],
   "source": [
    "#ANSWER 4\n",
    "def Name(n):\n",
    "    n = n.split('@')\n",
    "    return n[0]\n",
    "Name('john@google.com')"
   ]
  },
  {
   "cell_type": "markdown",
   "id": "5cf3409c",
   "metadata": {},
   "source": [
    "Question 5:\n",
    "Define a class named Shape and its subclass Square. The Square class has an init function\n",
    "which takes a length as argument. Both classes have a area function which can print the area\n",
    "of the shape where Shape's area is 0 by default."
   ]
  },
  {
   "cell_type": "code",
   "execution_count": 5,
   "id": "991c127e",
   "metadata": {},
   "outputs": [
    {
     "name": "stdout",
     "output_type": "stream",
     "text": [
      "25\n",
      "0\n"
     ]
    }
   ],
   "source": [
    "#ANSWER 5\n",
    "class Shape():\n",
    "    def __init__(self):\n",
    "        pass\n",
    "    def area(self):\n",
    "        return 0\n",
    "class Square(Shape):\n",
    "    def __init__(self,l):\n",
    "        self.length = l\n",
    "    def area(self):\n",
    "        return self.length * self.length\n",
    "asqr = Square(5)\n",
    "print(asqr.area())\n",
    "print(Shape().area())"
   ]
  }
 ],
 "metadata": {
  "kernelspec": {
   "display_name": "Python 3 (ipykernel)",
   "language": "python",
   "name": "python3"
  },
  "language_info": {
   "codemirror_mode": {
    "name": "ipython",
    "version": 3
   },
   "file_extension": ".py",
   "mimetype": "text/x-python",
   "name": "python",
   "nbconvert_exporter": "python",
   "pygments_lexer": "ipython3",
   "version": "3.9.7"
  }
 },
 "nbformat": 4,
 "nbformat_minor": 5
}
