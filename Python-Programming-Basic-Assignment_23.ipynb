{
 "cells": [
  {
   "cell_type": "markdown",
   "id": "596eb6f0",
   "metadata": {},
   "source": [
    "Question 1\n",
    "Create a function that takes a number as an argument and returns True or False depending\n",
    "on whether the number is symmetrical or not. A number is symmetrical when it is the same as\n",
    "its reverse."
   ]
  },
  {
   "cell_type": "code",
   "execution_count": 1,
   "id": "dc0aaa8c",
   "metadata": {},
   "outputs": [
    {
     "data": {
      "text/plain": [
       "False"
      ]
     },
     "execution_count": 1,
     "metadata": {},
     "output_type": "execute_result"
    }
   ],
   "source": [
    "#ANSWER 1\n",
    "def symmetric(n):\n",
    "    num,temp = 0,n\n",
    "    for i in range(len(str(temp))):\n",
    "        rem = temp % 10\n",
    "        num = num * 10 + rem\n",
    "        temp = temp//10\n",
    "    return num == n\n",
    "symmetric(1234)"
   ]
  },
  {
   "cell_type": "markdown",
   "id": "b5ad8625",
   "metadata": {},
   "source": [
    "Question 2\n",
    "Given a string of numbers separated by a comma and space, return the product of the\n",
    "numbers."
   ]
  },
  {
   "cell_type": "code",
   "execution_count": 2,
   "id": "a9eb5800",
   "metadata": {},
   "outputs": [
    {
     "data": {
      "text/plain": [
       "24"
      ]
     },
     "execution_count": 2,
     "metadata": {},
     "output_type": "execute_result"
    }
   ],
   "source": [
    "def multiply(n):\n",
    "    n = n.split(',')\n",
    "    num = 1\n",
    "    for i in n:\n",
    "        num *= int(i)\n",
    "    return num\n",
    "multiply('1,2,3,4')"
   ]
  },
  {
   "cell_type": "markdown",
   "id": "240ca21a",
   "metadata": {},
   "source": [
    "Question 3\n",
    "Create a function that squares every digit of a number."
   ]
  },
  {
   "cell_type": "code",
   "execution_count": 3,
   "id": "ccde858b",
   "metadata": {},
   "outputs": [
    {
     "data": {
      "text/plain": [
       "25163625"
      ]
     },
     "execution_count": 3,
     "metadata": {},
     "output_type": "execute_result"
    }
   ],
   "source": [
    "def square(n):\n",
    "    n = [int(i) for i in str(n)]\n",
    "    for i,j in enumerate(n):\n",
    "        n[i] = str(j ** 2)\n",
    "    return int(''.join(n))\n",
    "square(5465)"
   ]
  },
  {
   "cell_type": "markdown",
   "id": "f3a4e4a8",
   "metadata": {},
   "source": [
    "Question 4\n",
    "Create a function that sorts a list and removes all duplicate items from it."
   ]
  },
  {
   "cell_type": "code",
   "execution_count": 4,
   "id": "9989b920",
   "metadata": {},
   "outputs": [
    {
     "data": {
      "text/plain": [
       "[1, 2, 3]"
      ]
     },
     "execution_count": 4,
     "metadata": {},
     "output_type": "execute_result"
    }
   ],
   "source": [
    "def sort(n):\n",
    "    return list(set(sorted(n)))\n",
    "sort([3,3,3,2,1])"
   ]
  },
  {
   "cell_type": "markdown",
   "id": "2a3ca043",
   "metadata": {},
   "source": [
    "Question 5\n",
    "Create a function that returns the mean of all digits."
   ]
  },
  {
   "cell_type": "code",
   "execution_count": 5,
   "id": "8a626d10",
   "metadata": {},
   "outputs": [
    {
     "data": {
      "text/plain": [
       "3"
      ]
     },
     "execution_count": 5,
     "metadata": {},
     "output_type": "execute_result"
    }
   ],
   "source": [
    "def square(n):\n",
    "    n = [int(i) for i in str(n)]\n",
    "    digit = 0\n",
    "    for i in n:\n",
    "        digit += i\n",
    "    return digit//len(n)\n",
    "square(12345)"
   ]
  }
 ],
 "metadata": {
  "kernelspec": {
   "display_name": "Python 3 (ipykernel)",
   "language": "python",
   "name": "python3"
  },
  "language_info": {
   "codemirror_mode": {
    "name": "ipython",
    "version": 3
   },
   "file_extension": ".py",
   "mimetype": "text/x-python",
   "name": "python",
   "nbconvert_exporter": "python",
   "pygments_lexer": "ipython3",
   "version": "3.9.7"
  }
 },
 "nbformat": 4,
 "nbformat_minor": 5
}
