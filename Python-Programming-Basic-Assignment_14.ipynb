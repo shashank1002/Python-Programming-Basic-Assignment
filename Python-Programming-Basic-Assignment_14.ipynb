{
 "cells": [
  {
   "cell_type": "markdown",
   "id": "890eca03",
   "metadata": {},
   "source": [
    "Question 1:\n",
    "Define a class with a generator which can iterate the numbers, which are divisible by\n",
    "7, between a given range 0 and n."
   ]
  },
  {
   "cell_type": "code",
   "execution_count": 1,
   "id": "47faf4aa",
   "metadata": {},
   "outputs": [
    {
     "name": "stdout",
     "output_type": "stream",
     "text": [
      "0\n",
      "7\n",
      "14\n",
      "21\n",
      "28\n",
      "35\n",
      "42\n"
     ]
    }
   ],
   "source": [
    "#answer 1\n",
    "class divisible_7():\n",
    "    def __init__(self,n):\n",
    "        self.n = n\n",
    "    def number(self):\n",
    "        for i in range(self.n):\n",
    "            if i % 7 == 0:\n",
    "                yield i\n",
    "s=divisible_7(45)\n",
    "for i in s.number():\n",
    "    print(i)"
   ]
  },
  {
   "cell_type": "markdown",
   "id": "0fc732f2",
   "metadata": {},
   "source": [
    "Question 2:\n",
    "Write a program to compute the frequency of the words from the input. The output\n",
    "should output after sorting the key alphanumerically.\n",
    "Suppose the following input is supplied to the program:\n",
    "New to Python or choosing between Python 2 and Python 3? Read Python 2 or\n",
    "Python 3.\n",
    "Then, the output should be:\n",
    "2:2\n",
    "3.:1\n",
    "3?:1\n",
    "New:1\n",
    "Python:5\n",
    "Read:1\n",
    "and:1\n",
    "between:1\n",
    "choosing:1\n",
    "or:2\n",
    "to:1"
   ]
  },
  {
   "cell_type": "code",
   "execution_count": 2,
   "id": "0902951a",
   "metadata": {},
   "outputs": [
    {
     "name": "stdout",
     "output_type": "stream",
     "text": [
      "this : 1\n",
      "string : 1\n",
      "is : 1\n"
     ]
    }
   ],
   "source": [
    "#answer 2\n",
    "def sort_alphabet(n):\n",
    "    d = dict()\n",
    "    n = sorted((n.split()))\n",
    "    for i in set(n):\n",
    "        yield f'{i} : {n.count(i)}'\n",
    "for i in sort_alphabet(\"this is string\"):\n",
    "    print(i)"
   ]
  },
  {
   "cell_type": "markdown",
   "id": "1045832f",
   "metadata": {},
   "source": [
    "Question 3:\n",
    "Define a class Person and its two child classes: Male and Female. All classes have a method \"getGender\" which can print \"Male\" for Male class and \"Female\" for Female class."
   ]
  },
  {
   "cell_type": "code",
   "execution_count": 3,
   "id": "e4d956e0",
   "metadata": {},
   "outputs": [
    {
     "data": {
      "text/plain": [
       "'Female'"
      ]
     },
     "execution_count": 3,
     "metadata": {},
     "output_type": "execute_result"
    }
   ],
   "source": [
    "#answer 3\n",
    "class person():\n",
    "    def getGenderMale(self):\n",
    "        return 'Male'\n",
    "    def getGenderFemale(self):\n",
    "        return 'Female'\n",
    "class Male(person):\n",
    "    def getGender(Self):\n",
    "        return 'Male'\n",
    "class Female(person):\n",
    "    def getGender(self):\n",
    "        return 'Female'\n",
    "p = person()\n",
    "p.getGenderFemale()"
   ]
  },
  {
   "cell_type": "markdown",
   "id": "00d88958",
   "metadata": {},
   "source": [
    "Question 4:\n",
    "Please write a program to generate all sentences where subject is in ['I', 'You'] and\n",
    "verb is in ['Play', 'Love'] and the object is in ['Hockey','Football']."
   ]
  },
  {
   "cell_type": "code",
   "execution_count": 4,
   "id": "fe52fcd5",
   "metadata": {},
   "outputs": [
    {
     "name": "stdout",
     "output_type": "stream",
     "text": [
      "I Play Hockey\n",
      "I Play Football\n",
      "I Love Hockey\n",
      "I Love Football\n",
      "you Play Hockey\n",
      "you Play Football\n",
      "you Love Hockey\n",
      "you Love Football\n"
     ]
    }
   ],
   "source": [
    "#asnwer 4\n",
    "def com(n,m,l):\n",
    "    return [f'{i} {w} {b}' for i in n for w in m for b in l]\n",
    "for i in com(['I','you'],['Play','Love'],['Hockey','Football']):\n",
    "    print(i)"
   ]
  },
  {
   "cell_type": "markdown",
   "id": "ffa5062d",
   "metadata": {},
   "source": [
    "Question 5:\n",
    "Please write a program to compress and decompress the string 'hello world!hello world!hello world!hello world!'."
   ]
  },
  {
   "cell_type": "code",
   "execution_count": 5,
   "id": "b46b4c09",
   "metadata": {},
   "outputs": [
    {
     "name": "stdout",
     "output_type": "stream",
     "text": [
      "b'\\x1f\\x8b\\x08\\x00\\xe0/<b\\x02\\xff\\xcbH\\xcd\\xc9\\xc9W(\\xcf/\\xcaIQ\\xcc \\x82\\r\\x00\\xd3\\xe6\\xcf\\xae0\\x00\\x00\\x00'\n",
      "b'hello world!hello world!hello world!hello world!'\n"
     ]
    }
   ],
   "source": [
    "#answer 5\n",
    "import gzip\n",
    "\n",
    "def compress_string(n):\n",
    "    try:\n",
    "        return gzip.compress(n)\n",
    "    except Exception as e:\n",
    "        return e\n",
    "def decompress_string(n):\n",
    "    try:\n",
    "        return gzip.decompress(n)\n",
    "    except Exception as e:\n",
    "        return e\n",
    "print(compress_string(b'hello world!hello world!hello world!hello world!'))\n",
    "print(decompress_string(b'\\x1f\\x8b\\x08\\x00\\xdd-<b\\x02\\xff\\xcbH\\xcd\\xc9\\xc9W(\\xcf/\\xcaIQ\\xcc \\x82\\r\\x00\\xd3\\xe6\\xcf\\xae0\\x00\\x00\\x00'))"
   ]
  },
  {
   "cell_type": "markdown",
   "id": "80e2eab0",
   "metadata": {},
   "source": [
    "Question 6:\n",
    "Please write a binary search function which searches an item in a sorted list. The\n",
    "function should return the index of element to be searched in the list."
   ]
  },
  {
   "cell_type": "code",
   "execution_count": 6,
   "id": "335c0638",
   "metadata": {},
   "outputs": [
    {
     "data": {
      "text/plain": [
       "2"
      ]
     },
     "execution_count": 6,
     "metadata": {},
     "output_type": "execute_result"
    }
   ],
   "source": [
    "#answer 6\n",
    "def binary_Search(number_list,number):\n",
    "    first_index = 0\n",
    "    last_index = len(number_list)-1\n",
    "    mid = 0\n",
    "    while first_index <= last_index:\n",
    "        mid = (first_index + last_index)//2\n",
    "        if number_list[mid] == number:\n",
    "            return mid\n",
    "        if number_list[mid] < number:\n",
    "            first_index = mid + 1\n",
    "        else:\n",
    "            last_index = mid - 1\n",
    "    return False\n",
    "binary_Search([1,2,3,4,5],3)"
   ]
  }
 ],
 "metadata": {
  "kernelspec": {
   "display_name": "Python 3 (ipykernel)",
   "language": "python",
   "name": "python3"
  },
  "language_info": {
   "codemirror_mode": {
    "name": "ipython",
    "version": 3
   },
   "file_extension": ".py",
   "mimetype": "text/x-python",
   "name": "python",
   "nbconvert_exporter": "python",
   "pygments_lexer": "ipython3",
   "version": "3.9.7"
  }
 },
 "nbformat": 4,
 "nbformat_minor": 5
}
