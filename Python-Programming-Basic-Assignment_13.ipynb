{
 "cells": [
  {
   "cell_type": "markdown",
   "id": "dd1a0c42",
   "metadata": {},
   "source": [
    "Question 1:\n",
    "Write a program that calculates and prints the value according to the given formula:\n",
    "Q = Square root of [(2 * C * D)/H]\n",
    "Following are the fixed values of C and H:\n",
    "C is 50. H is 30.\n",
    "D is the variable whose values should be input to your program in a comma-separated\n",
    "sequence."
   ]
  },
  {
   "cell_type": "code",
   "execution_count": 1,
   "id": "daf88063",
   "metadata": {},
   "outputs": [
    {
     "name": "stdout",
     "output_type": "stream",
     "text": [
      "100,140,150\n"
     ]
    },
    {
     "data": {
      "text/plain": [
       "[18, 21, 22]"
      ]
     },
     "execution_count": 1,
     "metadata": {},
     "output_type": "execute_result"
    }
   ],
   "source": [
    "#ANSWER 1\n",
    "def Calculate():\n",
    "    \"\"\"input as a comma seperated value\"\"\"\n",
    "    C, H = 50, 30\n",
    "    return [int(((2*C*int(i))/H)**(1/2)) for i in input().split(',')]\n",
    "Calculate()"
   ]
  },
  {
   "cell_type": "markdown",
   "id": "50fd3d97",
   "metadata": {},
   "source": [
    "Question 2:\n",
    "Write a program which takes 2 digits, X,Y as input and generates a 2-dimensional array. The\n",
    "element value in the i-th row and j-th column of the array should be i*j.\n",
    "Note: i=0,1.., X-1; j=0,1,¡Y-1."
   ]
  },
  {
   "cell_type": "code",
   "execution_count": 2,
   "id": "2178ec86",
   "metadata": {},
   "outputs": [
    {
     "data": {
      "text/plain": [
       "array([[0, 0, 0, 0],\n",
       "       [0, 1, 2, 3],\n",
       "       [0, 2, 4, 6]])"
      ]
     },
     "execution_count": 2,
     "metadata": {},
     "output_type": "execute_result"
    }
   ],
   "source": [
    "#ANSWER 2\n",
    "import numpy as np\n",
    "def Element(n,m):\n",
    "    arr = np.ones((n,m),dtype = int)\n",
    "    #create array\n",
    "    for i in range(arr.shape[0]):\n",
    "        for j in range(arr.shape[1]):\n",
    "            arr[i,j] = j\n",
    "            \n",
    "    #getting output\n",
    "    for i in range(arr.shape[0]):\n",
    "        arr[i] = arr[i]*i\n",
    "    return arr\n",
    "Element(3,4)"
   ]
  },
  {
   "cell_type": "markdown",
   "id": "12ad7960",
   "metadata": {},
   "source": [
    "Question 3:\n",
    "Write a program that accepts a comma separated sequence of words as input and prints the\n",
    "words in a comma-separated sequence after sorting them alphabetically."
   ]
  },
  {
   "cell_type": "code",
   "execution_count": 3,
   "id": "782ba591",
   "metadata": {},
   "outputs": [
    {
     "data": {
      "text/plain": [
       "'bag,hello,without,world'"
      ]
     },
     "execution_count": 3,
     "metadata": {},
     "output_type": "execute_result"
    }
   ],
   "source": [
    "#ANSWER 3\n",
    "def Sort(n):\n",
    "    n = n.split(',')\n",
    "    return ','.join(sorted(n))\n",
    "Sort('without,hello,bag,world')"
   ]
  },
  {
   "cell_type": "markdown",
   "id": "55435640",
   "metadata": {},
   "source": [
    "Question 4:\n",
    "Write a program that accepts a sequence of whitespace separated words as input and prints\n",
    "the words after removing all duplicate words and sorting them alphanumerically."
   ]
  },
  {
   "cell_type": "code",
   "execution_count": 4,
   "id": "e095f77f",
   "metadata": {},
   "outputs": [
    {
     "data": {
      "text/plain": [
       "'again and hello makes perfect practice world'"
      ]
     },
     "execution_count": 4,
     "metadata": {},
     "output_type": "execute_result"
    }
   ],
   "source": [
    "#ANSWER 4\n",
    "def Sort(n):\n",
    "    n = n.split(' ')\n",
    "    return ' '.join(sorted(set(n)))\n",
    "Sort('hello world and practice makes perfect and hello world again')"
   ]
  },
  {
   "cell_type": "markdown",
   "id": "bb6cd4d8",
   "metadata": {},
   "source": [
    "Question 5:\n",
    "Write a program that accepts a sentence and calculate the number of letters and digits.\n",
    "Suppose the following input is supplied to the program:\n",
    "hello world! 123\n",
    "Then, the output should be:\n",
    "LETTERS 10\n",
    "\n",
    "DIGITS 3"
   ]
  },
  {
   "cell_type": "code",
   "execution_count": 5,
   "id": "d10aba04",
   "metadata": {},
   "outputs": [
    {
     "data": {
      "text/plain": [
       "('letter ', 10, 'digit ', 6)"
      ]
     },
     "execution_count": 5,
     "metadata": {},
     "output_type": "execute_result"
    }
   ],
   "source": [
    "#ANSWER 5\n",
    "def Count(n):\n",
    "    digit = 0\n",
    "    letter = 0\n",
    "    for i in n:\n",
    "        if i.isalpha():\n",
    "            letter += 1\n",
    "        elif i.isdigit:\n",
    "            digit += 1\n",
    "    return 'letter ',letter, 'digit ',digit\n",
    "Count('hello world! 123')"
   ]
  },
  {
   "cell_type": "markdown",
   "id": "912846c9",
   "metadata": {},
   "source": [
    "Question 6:\n",
    "A website requires the users to input username and password to register. Write a program to\n",
    "check the validity of password input by users.\n",
    "Following are the criteria for checking the password:\n",
    "1. At least 1 letter between [a-z]\n",
    "2. At least 1 number between [0-9]\n",
    "1. At least 1 letter between [A-Z]\n",
    "3. At least 1 character from [$#@]\n",
    "4. Minimum length of transaction password: 6\n",
    "5. Maximum length of transaction password: 12\n",
    "Your program should accept a sequence of comma separated passwords and will check them\n",
    "according to the above criteria. Passwords that match the criteria are to be printed, each\n",
    "separated by a comma."
   ]
  },
  {
   "cell_type": "code",
   "execution_count": 6,
   "id": "37752737",
   "metadata": {},
   "outputs": [
    {
     "name": "stdout",
     "output_type": "stream",
     "text": [
      "True\n"
     ]
    },
    {
     "data": {
      "text/plain": [
       "['ABd1234@1']"
      ]
     },
     "execution_count": 6,
     "metadata": {},
     "output_type": "execute_result"
    }
   ],
   "source": [
    "#ANSWER 6\n",
    "def Password(n):\n",
    "    F = True\n",
    "    s =[]\n",
    "    print(F)\n",
    "    n = n.split(',')\n",
    "    for j in n:\n",
    "        if any(i>='a' or i<='z' for i in j):\n",
    "            if any(i>='A' or i<='Z' for i in j):\n",
    "                   if any(i.isdigit() for i in j):\n",
    "                        if any(i in ['@','#','$'] for i in j):\n",
    "                            if len(j)>6:\n",
    "                                if len(j)<13:\n",
    "                                    s.append(j)\n",
    "    return s\n",
    "Password('ABd1234@1,a F1#,2w3E*,2We3345')"
   ]
  },
  {
   "cell_type": "code",
   "execution_count": 7,
   "id": "4749322b",
   "metadata": {},
   "outputs": [
    {
     "data": {
      "text/plain": [
       "False"
      ]
     },
     "execution_count": 7,
     "metadata": {},
     "output_type": "execute_result"
    }
   ],
   "source": [
    "any(i in ['@','#','$'] for i in '2We3345')"
   ]
  }
 ],
 "metadata": {
  "kernelspec": {
   "display_name": "Python 3 (ipykernel)",
   "language": "python",
   "name": "python3"
  },
  "language_info": {
   "codemirror_mode": {
    "name": "ipython",
    "version": 3
   },
   "file_extension": ".py",
   "mimetype": "text/x-python",
   "name": "python",
   "nbconvert_exporter": "python",
   "pygments_lexer": "ipython3",
   "version": "3.9.7"
  }
 },
 "nbformat": 4,
 "nbformat_minor": 5
}
