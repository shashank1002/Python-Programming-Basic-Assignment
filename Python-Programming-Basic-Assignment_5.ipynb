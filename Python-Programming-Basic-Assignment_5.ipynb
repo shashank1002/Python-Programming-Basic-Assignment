{
 "cells": [
  {
   "cell_type": "code",
   "execution_count": 1,
   "id": "c9ad99c3",
   "metadata": {},
   "outputs": [
    {
     "name": "stdout",
     "output_type": "stream",
     "text": [
      "Enter the value1 = 24\n",
      "Enter the value2 = 32\n",
      "96\n"
     ]
    }
   ],
   "source": [
    "#1. Write a Python Program to Find LCM?\n",
    "\n",
    "value1 = int(input('Enter the value1 = '))\n",
    "value2 = int(input('Enter the value2 = '))\n",
    "\n",
    "value = int\n",
    "hcf = max([i for i in range(1,min(value1,value2)) if (value1 % i == 0) and (value2 % i ==0)])\n",
    "lcm = (value1 * value2) // hcf\n",
    "print(lcm)"
   ]
  },
  {
   "cell_type": "code",
   "execution_count": 2,
   "id": "f8a9adeb",
   "metadata": {},
   "outputs": [
    {
     "name": "stdout",
     "output_type": "stream",
     "text": [
      "Enter the value1 = 23\n",
      "Enter the value2 = 230\n",
      "23\n"
     ]
    }
   ],
   "source": [
    "#2. Write a Python Program to Find HCF?\n",
    "\n",
    "value1 = int(input('Enter the value1 = '))\n",
    "value2 = int(input('Enter the value2 = '))\n",
    "hcf = [i for i in range(1,min(value1,value2) + 1) if value1 % i == 0 and value2 % i == 0]\n",
    "print(max(hcf))"
   ]
  },
  {
   "cell_type": "code",
   "execution_count": 3,
   "id": "6e874bb9",
   "metadata": {},
   "outputs": [
    {
     "name": "stdout",
     "output_type": "stream",
     "text": [
      "Enter the decimal value = 125\n",
      "convert decimal to binary is 1111101\n",
      "Enter the octal value = 235\n",
      "convert decimal to hexadecimal is 9D.00\n"
     ]
    }
   ],
   "source": [
    "#3. Write a Python Program to Convert Decimal to Binary, Octal and Hexadecimal?\n",
    "\n",
    "# DECIMAL to BINARY\n",
    "value = int(input('Enter the decimal value = '))\n",
    "s = \"\"\n",
    "while value:\n",
    "    rem = value % 2\n",
    "    s = s + str(rem)\n",
    "    value = value//2\n",
    "print(f\"convert decimal to binary is {s[::-1]}\")\n",
    "\n",
    "#octal to decimal\n",
    "value = float(input('Enter the octal value = '))\n",
    "value = str(value)\n",
    "j = 0\n",
    "value1 = 0\n",
    "value2 = 0\n",
    "for i, k in enumerate(value):\n",
    "    if k == \".\":\n",
    "        j = 1\n",
    "    elif i > value.index(\".\"):\n",
    "        value1 += int(k) / (8 ** j)\n",
    "        j += 1\n",
    "\n",
    "    else:\n",
    "        value2 += int(k) * 8 ** (value.index(\".\") - (i + 1))\n",
    "value1 = value2 + value1\n",
    "\n",
    "#decimal to hexadecimal\n",
    "split = str(value1).split('.')\n",
    "value = int(split[0])\n",
    "value2 = int(split[1]) / (10 ** len(split[1]))\n",
    "s = \"\"\n",
    "s1 = \"\"\n",
    "while value:\n",
    "\n",
    "    # value before decimal.\n",
    "    re = value % 16\n",
    "    value = value // 16\n",
    "    re=str(re)\n",
    "    # value after decimal\n",
    "    value2 = value2 * 16\n",
    "    r = int(value2)\n",
    "    value2 = value2 - r\n",
    "    r=str(r)\n",
    "    if re == '10':\n",
    "        re = \"A\"\n",
    "    elif re == '11':\n",
    "        re = \"B\"\n",
    "    elif re == '12':\n",
    "        re = \"C\"\n",
    "    elif re == '13':\n",
    "        re = \"D\"\n",
    "    elif re == '14':\n",
    "        re = \"E\"\n",
    "    elif re == '15':\n",
    "        re = \"F\"\n",
    "    else:\n",
    "        re = re\n",
    "\n",
    "    if r == '10':\n",
    "        r = \"A\"\n",
    "    elif r == '11':\n",
    "        r = \"B\"\n",
    "    elif r == '12':\n",
    "        r = \"C\"\n",
    "    elif r == '13':\n",
    "        r = \"D\"\n",
    "    elif r == '14':\n",
    "        r = \"E\"\n",
    "    elif r == '15':\n",
    "        r = \"F\"\n",
    "    else:\n",
    "        r = r\n",
    "    s=s+re\n",
    "    s1=s1+r\n",
    "print(f\"convert decimal to hexadecimal is {s[::-1]}.{s1}\")"
   ]
  },
  {
   "cell_type": "code",
   "execution_count": 4,
   "id": "cde97270",
   "metadata": {},
   "outputs": [
    {
     "name": "stdout",
     "output_type": "stream",
     "text": [
      "character is = f\n",
      "102\n"
     ]
    }
   ],
   "source": [
    "#4. Write a Python Program To Find ASCII value of a character?\n",
    "\n",
    "value1 = input(\"character is = \")\n",
    "print(ord(value1))"
   ]
  },
  {
   "cell_type": "code",
   "execution_count": 5,
   "id": "ab22c92d",
   "metadata": {},
   "outputs": [
    {
     "name": "stdout",
     "output_type": "stream",
     "text": [
      "Enter the value1 = 2\n",
      "Enter the value2 = 4\n",
      "Enter the any one operator + - * / = *\n",
      "8\n"
     ]
    }
   ],
   "source": [
    "#5. Write a Python Program to Make a Simple Calculator with 4 basic mathematical operations?\n",
    "\n",
    "try:\n",
    "    value1 = int(input('Enter the value1 = '))\n",
    "    value2 = int(input('Enter the value2 = '))\n",
    "    symbol = input('Enter the any one operator + - * / = ')\n",
    "    if symbol == '+':\n",
    "        add = value1\n",
    "    elif symbol == '-':\n",
    "        sub = value1 - value2\n",
    "        print(add)\n",
    "    elif symbol == '/':\n",
    "        div = value1 / value2\n",
    "        print(div)\n",
    "    else:\n",
    "        mul = value1 * value2\n",
    "        print(mul)\n",
    "except Exception as e:\n",
    "    print('Exception error ',e)"
   ]
  }
 ],
 "metadata": {
  "kernelspec": {
   "display_name": "Python 3 (ipykernel)",
   "language": "python",
   "name": "python3"
  },
  "language_info": {
   "codemirror_mode": {
    "name": "ipython",
    "version": 3
   },
   "file_extension": ".py",
   "mimetype": "text/x-python",
   "name": "python",
   "nbconvert_exporter": "python",
   "pygments_lexer": "ipython3",
   "version": "3.9.7"
  }
 },
 "nbformat": 4,
 "nbformat_minor": 5
}
