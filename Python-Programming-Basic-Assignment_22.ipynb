{
 "cells": [
  {
   "cell_type": "markdown",
   "id": "bc460599",
   "metadata": {},
   "source": [
    "Question1\n",
    "Create a function that takes three parameters where:\n",
    " x is the start of the range (inclusive).\n",
    " y is the end of the range (inclusive).\n",
    " n is the divisor to be checked against.\n",
    "Return an ordered list with numbers in the range that are divisible by the third parameter n.\n",
    "Return an empty list if there are no numbers that are divisible by n."
   ]
  },
  {
   "cell_type": "code",
   "execution_count": 1,
   "id": "96a041f1",
   "metadata": {},
   "outputs": [
    {
     "data": {
      "text/plain": [
       "[1, 2, 3, 4, 5, 6, 7, 8, 9, 10, 11]"
      ]
     },
     "execution_count": 1,
     "metadata": {},
     "output_type": "execute_result"
    }
   ],
   "source": [
    "#ANSWER 1\n",
    "def value(a,b,c):\n",
    "    return [i for i in range(a,b+1,c)]\n",
    "value(1,11,1)"
   ]
  },
  {
   "cell_type": "markdown",
   "id": "022ea9de",
   "metadata": {},
   "source": [
    "Question2\n",
    "Create a function that takes in two lists and returns True if the second list follows the first list\n",
    "by one element, and False otherwise. In other words, determine if the second list is the first\n",
    "list shifted to the right by 1."
   ]
  },
  {
   "cell_type": "code",
   "execution_count": 2,
   "id": "45c9098d",
   "metadata": {},
   "outputs": [
    {
     "data": {
      "text/plain": [
       "True"
      ]
     },
     "execution_count": 2,
     "metadata": {},
     "output_type": "execute_result"
    }
   ],
   "source": [
    "#ANSWER 2\n",
    "def follow(a,b):\n",
    "    if len(a) == len(b):\n",
    "        return b[1] in a\n",
    "follow([1,2],[5,1])"
   ]
  },
  {
   "cell_type": "markdown",
   "id": "a8af0f95",
   "metadata": {},
   "source": [
    "Question3\n",
    "A group of friends have decided to start a secret society. The name will be the first letter of each of their names, sorted in alphabetical order.Create a function that takes in a list of names and returns the name of the secret society."
   ]
  },
  {
   "cell_type": "code",
   "execution_count": 3,
   "id": "8b6b690a",
   "metadata": {},
   "outputs": [
    {
     "data": {
      "text/plain": [
       "'HMS'"
      ]
     },
     "execution_count": 3,
     "metadata": {},
     "output_type": "execute_result"
    }
   ],
   "source": [
    "#ANSWER 3\n",
    "def name(n):\n",
    "    return ''.join(sorted([i[0] for i in n]))\n",
    "name(['Harry','Monica','Sara'])"
   ]
  },
  {
   "cell_type": "markdown",
   "id": "643cd315",
   "metadata": {},
   "source": [
    "Question4\n",
    "An isogram is a word that has no duplicate letters. Create a function that takes a string and\n",
    "returns either True or False depending on whether or not it's an 'isogram'."
   ]
  },
  {
   "cell_type": "code",
   "execution_count": 4,
   "id": "f7d977e4",
   "metadata": {},
   "outputs": [
    {
     "data": {
      "text/plain": [
       "True"
      ]
     },
     "execution_count": 4,
     "metadata": {},
     "output_type": "execute_result"
    }
   ],
   "source": [
    "#ANSWER 4\n",
    "def is_isogram(n):\n",
    "    n = n.lower()\n",
    "    return all([n.count(i.lower()) == 1 for i in n])\n",
    "is_isogram('python')"
   ]
  },
  {
   "cell_type": "markdown",
   "id": "8cdf11f1",
   "metadata": {},
   "source": [
    "Question5\n",
    "Create a function that takes a string and returns True or False, depending on whether the\n",
    "characters are in order or not."
   ]
  },
  {
   "cell_type": "code",
   "execution_count": 5,
   "id": "9999157a",
   "metadata": {},
   "outputs": [
    {
     "data": {
      "text/plain": [
       "True"
      ]
     },
     "execution_count": 5,
     "metadata": {},
     "output_type": "execute_result"
    }
   ],
   "source": [
    "#ANSWER 5\n",
    "def order(n):\n",
    "    str = n\n",
    "    n = [i for i in n]\n",
    "    return str == ''.join(sorted(n))\n",
    "order('abc')"
   ]
  }
 ],
 "metadata": {
  "kernelspec": {
   "display_name": "Python 3 (ipykernel)",
   "language": "python",
   "name": "python3"
  },
  "language_info": {
   "codemirror_mode": {
    "name": "ipython",
    "version": 3
   },
   "file_extension": ".py",
   "mimetype": "text/x-python",
   "name": "python",
   "nbconvert_exporter": "python",
   "pygments_lexer": "ipython3",
   "version": "3.9.7"
  }
 },
 "nbformat": 4,
 "nbformat_minor": 5
}
