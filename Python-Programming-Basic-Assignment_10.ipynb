{
 "cells": [
  {
   "cell_type": "code",
   "execution_count": 1,
   "id": "39d10fea",
   "metadata": {},
   "outputs": [
    {
     "data": {
      "text/plain": [
       "164"
      ]
     },
     "execution_count": 1,
     "metadata": {},
     "output_type": "execute_result"
    }
   ],
   "source": [
    "#1. Write a Python program to find sum of elements in list?\n",
    "def total(n):\n",
    "    \"\"\"where input should be list\"\"\"\n",
    "    return sum(n)\n",
    "total([23,12,53,23,53])"
   ]
  },
  {
   "cell_type": "code",
   "execution_count": 2,
   "id": "07ab057a",
   "metadata": {},
   "outputs": [
    {
     "data": {
      "text/plain": [
       "5934"
      ]
     },
     "execution_count": 2,
     "metadata": {},
     "output_type": "execute_result"
    }
   ],
   "source": [
    "#2. Write a Python program to Multiply all numbers in the list?\n",
    "def multiply(n):\n",
    "    \"\"\"where input should be list\"\"\"\n",
    "    mult = 1\n",
    "    for i in n:\n",
    "        mult *= i\n",
    "    return mult\n",
    "multiply([2,43,23,1,3])"
   ]
  },
  {
   "cell_type": "code",
   "execution_count": 3,
   "id": "b7e6ee74",
   "metadata": {},
   "outputs": [
    {
     "data": {
      "text/plain": [
       "1"
      ]
     },
     "execution_count": 3,
     "metadata": {},
     "output_type": "execute_result"
    }
   ],
   "source": [
    "#3. Write a Python program to find smallest number in a list?\n",
    "import numpy as np\n",
    "def min(n):\n",
    "    \"\"\"where input should be list\"\"\"\n",
    "    return np.array(n).min()\n",
    "min([2,3,1,5])"
   ]
  },
  {
   "cell_type": "code",
   "execution_count": 4,
   "id": "58521aeb",
   "metadata": {},
   "outputs": [
    {
     "data": {
      "text/plain": [
       "5"
      ]
     },
     "execution_count": 4,
     "metadata": {},
     "output_type": "execute_result"
    }
   ],
   "source": [
    "#4. Write a Python program to find largest number in a list?\n",
    "import numpy as np\n",
    "def max(n):\n",
    "    \"\"\"where input should be list\"\"\"\n",
    "    return np.array(n).max()\n",
    "max([2,3,1,5])"
   ]
  },
  {
   "cell_type": "code",
   "execution_count": 5,
   "id": "11c94330",
   "metadata": {},
   "outputs": [
    {
     "data": {
      "text/plain": [
       "3"
      ]
     },
     "execution_count": 5,
     "metadata": {},
     "output_type": "execute_result"
    }
   ],
   "source": [
    "#5. Write a Python program to find second largest number in a list?\n",
    "def max(n):\n",
    "    \"\"\"where input should be list\"\"\"\n",
    "    return sorted(n)[-2]\n",
    "max([2,3,1,4])"
   ]
  },
  {
   "cell_type": "code",
   "execution_count": 6,
   "id": "0392dc15",
   "metadata": {},
   "outputs": [
    {
     "data": {
      "text/plain": [
       "2"
      ]
     },
     "execution_count": 6,
     "metadata": {},
     "output_type": "execute_result"
    }
   ],
   "source": [
    "#6. Write a Python program to find N largest elements from a list?\n",
    "def max(n,place):\n",
    "    \"\"\"where input should be list and Nth place\"\"\"\n",
    "    return sorted(n)[-place]\n",
    "max([2,3,1,4],3)"
   ]
  },
  {
   "cell_type": "code",
   "execution_count": 7,
   "id": "40f5c729",
   "metadata": {},
   "outputs": [
    {
     "data": {
      "text/plain": [
       "[2, 4]"
      ]
     },
     "execution_count": 7,
     "metadata": {},
     "output_type": "execute_result"
    }
   ],
   "source": [
    "#7. Write a Python program to print even numbers in a list?\n",
    "def even(n):\n",
    "    \"\"\"where input should be list\"\"\"\n",
    "    return [i for i in n if i % 2 == 0]\n",
    "even([2,3,1,4])"
   ]
  },
  {
   "cell_type": "code",
   "execution_count": 8,
   "id": "b803476b",
   "metadata": {},
   "outputs": [
    {
     "data": {
      "text/plain": [
       "[3, 1]"
      ]
     },
     "execution_count": 8,
     "metadata": {},
     "output_type": "execute_result"
    }
   ],
   "source": [
    "#8. Write a Python program to print odd numbers in a List?\n",
    "def odd(n):\n",
    "    \"\"\"where input should be list\"\"\"\n",
    "    return [i for i in n if i % 2 != 0]\n",
    "odd([2,3,1,4])"
   ]
  },
  {
   "cell_type": "code",
   "execution_count": 9,
   "id": "aa85f020",
   "metadata": {},
   "outputs": [
    {
     "data": {
      "text/plain": [
       "[2, 3, 1, 4]"
      ]
     },
     "execution_count": 9,
     "metadata": {},
     "output_type": "execute_result"
    }
   ],
   "source": [
    "#9. Write a Python program to Remove empty List from List?\n",
    "def Remove_Empty(n):\n",
    "    \"\"\"where input should be list\"\"\"\n",
    "    while [] in n:\n",
    "        n.remove([])\n",
    "    return n\n",
    "Remove_Empty([2,[],3,[],1,4])"
   ]
  },
  {
   "cell_type": "code",
   "execution_count": 10,
   "id": "fa7cc79c",
   "metadata": {},
   "outputs": [
    {
     "data": {
      "text/plain": [
       "[2, 3, 1, 4]"
      ]
     },
     "execution_count": 10,
     "metadata": {},
     "output_type": "execute_result"
    }
   ],
   "source": [
    "#10. Write a Python program to Cloning or Copying a list?\n",
    "def copy(n):\n",
    "    \"\"\"where input should be list\"\"\"\n",
    "    new_n = n.copy()\n",
    "    return new_n\n",
    "copy([2,3,1,4])"
   ]
  },
  {
   "cell_type": "code",
   "execution_count": 11,
   "id": "4e1736be",
   "metadata": {},
   "outputs": [
    {
     "data": {
      "text/plain": [
       "1"
      ]
     },
     "execution_count": 11,
     "metadata": {},
     "output_type": "execute_result"
    }
   ],
   "source": [
    "# 11. Write a Python program to Count occurrences of an element in a list?\n",
    "def odd(n,occur):\n",
    "    \"\"\"where input should be list and occured number\"\"\"\n",
    "    return n.count(occur)\n",
    "odd([2,3,1,4],1)"
   ]
  }
 ],
 "metadata": {
  "kernelspec": {
   "display_name": "Python 3 (ipykernel)",
   "language": "python",
   "name": "python3"
  },
  "language_info": {
   "codemirror_mode": {
    "name": "ipython",
    "version": 3
   },
   "file_extension": ".py",
   "mimetype": "text/x-python",
   "name": "python",
   "nbconvert_exporter": "python",
   "pygments_lexer": "ipython3",
   "version": "3.9.7"
  }
 },
 "nbformat": 4,
 "nbformat_minor": 5
}
