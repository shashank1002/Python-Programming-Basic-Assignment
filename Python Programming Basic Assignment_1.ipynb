{
 "cells": [
  {
   "cell_type": "code",
   "execution_count": 1,
   "id": "aa01c665",
   "metadata": {},
   "outputs": [
    {
     "name": "stdout",
     "output_type": "stream",
     "text": [
      "\"Hello Python\"\n"
     ]
    }
   ],
   "source": [
    "# 1.Write a Python program to print \"Hello Python\"?\n",
    "\n",
    "print('\"Hello Python\"')"
   ]
  },
  {
   "cell_type": "code",
   "execution_count": 2,
   "id": "ee637467",
   "metadata": {},
   "outputs": [
    {
     "name": "stdout",
     "output_type": "stream",
     "text": [
      "4\n",
      "-2\n",
      "0.3333333333333333\n",
      "hellohellohello\n",
      "1\n"
     ]
    }
   ],
   "source": [
    "# 2.Write a Python program to do arithmetical operations addition and division.?\n",
    "\n",
    "a = 1\n",
    "b = 3\n",
    "c = \"hello\"\n",
    "print(a+b)\n",
    "print(a-b)\n",
    "print(a/b)\n",
    "print(b*c)\n",
    "print(a%b)\n"
   ]
  },
  {
   "cell_type": "code",
   "execution_count": 3,
   "id": "d712f478",
   "metadata": {},
   "outputs": [
    {
     "name": "stdout",
     "output_type": "stream",
     "text": [
      "base:2\n",
      "height:3\n",
      "2.5\n"
     ]
    }
   ],
   "source": [
    "# 3.Write a Python program to find the area of a triangle?\n",
    "\n",
    "\n",
    "b = float(input(\"base:\"))\n",
    "h = float(input(\"height:\"))\n",
    "a=0.5*(b+h)\n",
    "print(a)"
   ]
  },
  {
   "cell_type": "code",
   "execution_count": 4,
   "id": "4ffc697b",
   "metadata": {},
   "outputs": [
    {
     "name": "stdout",
     "output_type": "stream",
     "text": [
      "value of a = 2\n",
      "value of b = 3\n",
      "value of a after swap =  3\n",
      "value of b after swap =  2\n"
     ]
    }
   ],
   "source": [
    "# 4. Write a Python program to swap two variables?\n",
    "\n",
    "a = int(input(\"value of a = \"))\n",
    "b = int(input(\"value of b = \"))\n",
    "a = a + b\n",
    "b = a - b\n",
    "a = a - b\n",
    "print(\"value of a after swap = \",a)\n",
    "print(\"value of b after swap = \",b)"
   ]
  },
  {
   "cell_type": "code",
   "execution_count": 5,
   "id": "a2aa9ccc",
   "metadata": {},
   "outputs": [
    {
     "data": {
      "text/plain": [
       "0.17707748860648898"
      ]
     },
     "execution_count": 5,
     "metadata": {},
     "output_type": "execute_result"
    }
   ],
   "source": [
    "# 5.Write a Python program to generate a random number?\n",
    "\n",
    "import numpy as np\n",
    "np.random.rand()"
   ]
  },
  {
   "cell_type": "code",
   "execution_count": null,
   "id": "10e5321f",
   "metadata": {},
   "outputs": [],
   "source": []
  }
 ],
 "metadata": {
  "kernelspec": {
   "display_name": "Python 3 (ipykernel)",
   "language": "python",
   "name": "python3"
  },
  "language_info": {
   "codemirror_mode": {
    "name": "ipython",
    "version": 3
   },
   "file_extension": ".py",
   "mimetype": "text/x-python",
   "name": "python",
   "nbconvert_exporter": "python",
   "pygments_lexer": "ipython3",
   "version": "3.9.7"
  }
 },
 "nbformat": 4,
 "nbformat_minor": 5
}
