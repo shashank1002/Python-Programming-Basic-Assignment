{
 "cells": [
  {
   "cell_type": "markdown",
   "id": "835febc7",
   "metadata": {},
   "source": [
    "Question1\n",
    "Create a function that takes an integer and returns a list from 1 to the given number, where:\n",
    "1. If the number can be divided evenly by 4, amplify it by 10 (i.e. return 10 times the\n",
    "number).\n",
    "2. If the number cannot be divided evenly by 4, simply return the number."
   ]
  },
  {
   "cell_type": "code",
   "execution_count": 1,
   "id": "a3e47a02",
   "metadata": {},
   "outputs": [
    {
     "data": {
      "text/plain": [
       "[1, 2, 3, 40]"
      ]
     },
     "execution_count": 1,
     "metadata": {},
     "output_type": "execute_result"
    }
   ],
   "source": [
    "#ANSWER 1\n",
    "def divisible(n):\n",
    "    n = [i for i in range(1,n+1)]\n",
    "    for i,j in enumerate(n):\n",
    "        if j % 4 == 0:\n",
    "            n[i] = n[i] * 10\n",
    "    return n\n",
    "divisible(4)"
   ]
  },
  {
   "cell_type": "markdown",
   "id": "469a70f8",
   "metadata": {},
   "source": [
    "Question2\n",
    "Create a function that takes a list of numbers and return the number that's unique."
   ]
  },
  {
   "cell_type": "code",
   "execution_count": 2,
   "id": "2eb4c5e1",
   "metadata": {},
   "outputs": [
    {
     "data": {
      "text/plain": [
       "0"
      ]
     },
     "execution_count": 2,
     "metadata": {},
     "output_type": "execute_result"
    }
   ],
   "source": [
    "#ANSWER 2\n",
    "def uniq(n):\n",
    "    for i in n:\n",
    "        if n.count(i) == 1:\n",
    "            return i\n",
    "uniq([0,1,1,1,1,1,1,1])"
   ]
  },
  {
   "cell_type": "markdown",
   "id": "69c018e5",
   "metadata": {},
   "source": [
    "Question3\n",
    "Your task is to create a Circle constructor that creates a circle with a radius provided by an\n",
    "argument. The circles constructed must have two getters getArea() (PIr^2) and\n",
    "getPerimeter() (2PI*r) which give both respective areas and perimeter (circumference).\n",
    "\n",
    "For help with this class, I have provided you with a Rectangle constructor which you can use\n",
    "as a base example."
   ]
  },
  {
   "cell_type": "code",
   "execution_count": 3,
   "id": "289affb8",
   "metadata": {},
   "outputs": [
    {
     "name": "stdout",
     "output_type": "stream",
     "text": [
      "Area 61.932\n",
      "Perimeter 27.897\n"
     ]
    }
   ],
   "source": [
    "import math\n",
    "class circle():\n",
    "    def __init__(self,n):\n",
    "        self.n = n\n",
    "    def getArea(self):\n",
    "        return round(math.pi * (self.n ** 2),3)\n",
    "    def getPerimeter(self):\n",
    "        return round(2 * math.pi * self.n,3)\n",
    "c = circle(4.44)\n",
    "print('Area',c.getArea())\n",
    "print('Perimeter',c.getPerimeter())"
   ]
  },
  {
   "cell_type": "markdown",
   "id": "5da97762",
   "metadata": {},
   "source": [
    "Question4\n",
    "Create a function that takes a list of strings and return a list, sorted from shortest to longest."
   ]
  },
  {
   "cell_type": "code",
   "execution_count": 4,
   "id": "bc0187b1",
   "metadata": {},
   "outputs": [
    {
     "data": {
      "text/plain": [
       "['Raphael', 'Leonardo', 'Donatello', 'Michelango']"
      ]
     },
     "execution_count": 4,
     "metadata": {},
     "output_type": "execute_result"
    }
   ],
   "source": [
    "def sort(n):\n",
    "    n.sort(key=len)\n",
    "    return n\n",
    "sort(['Leonardo','Michelango','Raphael','Donatello'])"
   ]
  },
  {
   "cell_type": "markdown",
   "id": "046f9631",
   "metadata": {},
   "source": [
    "Question5\n",
    "Create a function that validates whether three given integers form a Pythagorean triplet. The\n",
    "sum of the squares of the two smallest integers must equal the square of the largest number to\n",
    "be validated."
   ]
  },
  {
   "cell_type": "code",
   "execution_count": 5,
   "id": "ad059460",
   "metadata": {},
   "outputs": [
    {
     "data": {
      "text/plain": [
       "True"
      ]
     },
     "execution_count": 5,
     "metadata": {},
     "output_type": "execute_result"
    }
   ],
   "source": [
    "def pythagorean(a,b,c):\n",
    "    if a > c:\n",
    "        a=a+c\n",
    "        c=a-c\n",
    "        a=a-c\n",
    "    elif b > c:\n",
    "        b=+c\n",
    "        c=b-c\n",
    "        b=b-c\n",
    "    if (a ** 2) + (b ** 2) == (c ** 2):\n",
    "        return True\n",
    "    return False\n",
    "pythagorean(13,5,12)"
   ]
  }
 ],
 "metadata": {
  "kernelspec": {
   "display_name": "Python 3 (ipykernel)",
   "language": "python",
   "name": "python3"
  },
  "language_info": {
   "codemirror_mode": {
    "name": "ipython",
    "version": 3
   },
   "file_extension": ".py",
   "mimetype": "text/x-python",
   "name": "python",
   "nbconvert_exporter": "python",
   "pygments_lexer": "ipython3",
   "version": "3.9.7"
  }
 },
 "nbformat": 4,
 "nbformat_minor": 5
}
