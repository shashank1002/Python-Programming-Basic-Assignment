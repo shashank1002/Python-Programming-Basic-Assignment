{
 "cells": [
  {
   "cell_type": "code",
   "execution_count": 1,
   "id": "596fdabb",
   "metadata": {},
   "outputs": [
    {
     "name": "stdout",
     "output_type": "stream",
     "text": [
      "factorial of 4\n",
      "24\n"
     ]
    }
   ],
   "source": [
    "#1. Write a Python Program to Find the Factorial of a Number?\n",
    "n = int(input(\"factorial of \"))\n",
    "fact = 1\n",
    "for i in range(n,0,-1):\n",
    "    fact *= i\n",
    "print(fact)"
   ]
  },
  {
   "cell_type": "code",
   "execution_count": 2,
   "id": "f8201407",
   "metadata": {},
   "outputs": [
    {
     "name": "stdout",
     "output_type": "stream",
     "text": [
      "table of 4\n",
      "range is 10\n",
      "4 * 1 = 4\n",
      "4 * 2 = 8\n",
      "4 * 3 = 12\n",
      "4 * 4 = 16\n",
      "4 * 5 = 20\n",
      "4 * 6 = 24\n",
      "4 * 7 = 28\n",
      "4 * 8 = 32\n",
      "4 * 9 = 36\n",
      "4 * 10 = 40\n"
     ]
    }
   ],
   "source": [
    "#2. Write a Python Program to Display the multiplication Table?\n",
    "n = int(input(\"table of \"))\n",
    "r = int(input(\"range is \"))\n",
    "for i in range(1,r+1):\n",
    "    table = n * i\n",
    "    print(f\"{n} * {i} =\",table)"
   ]
  },
  {
   "cell_type": "code",
   "execution_count": 3,
   "id": "9d4ce899",
   "metadata": {},
   "outputs": [
    {
     "name": "stdout",
     "output_type": "stream",
     "text": [
      "enter the number 4\n",
      "0\n",
      "1\n",
      "1\n",
      "2\n"
     ]
    }
   ],
   "source": [
    "#3. Write a Python Program to Print the Fibonacci sequence?\n",
    "n = int(input(\"enter the number \"))\n",
    "a = 0\n",
    "b = 1\n",
    "for i in range(n):\n",
    "    if(i<=1):\n",
    "        n = i\n",
    "    else:\n",
    "        n = a + b\n",
    "        a = b\n",
    "        b = n\n",
    "    print(n)"
   ]
  },
  {
   "cell_type": "code",
   "execution_count": 4,
   "id": "36e30629",
   "metadata": {},
   "outputs": [
    {
     "name": "stdout",
     "output_type": "stream",
     "text": [
      "enter the number 153\n",
      "153 is a armstrong number\n"
     ]
    }
   ],
   "source": [
    "#4. Write a Python Program to Check Armstrong Number?\n",
    "arm = int(input(\"enter the number \"))\n",
    "s = len(str(arm))\n",
    "t = arm\n",
    "total = 0\n",
    "for i in range(0,s):\n",
    "    value = t % 10\n",
    "    total += value ** 3\n",
    "    t //= 10\n",
    "if arm == total:\n",
    "    print(f\"{arm} is a armstrong number\")\n",
    "else:\n",
    "    print(f\"{arm} is not a armstrong number\")"
   ]
  },
  {
   "cell_type": "code",
   "execution_count": 6,
   "id": "161744c6",
   "metadata": {},
   "outputs": [
    {
     "name": "stdout",
     "output_type": "stream",
     "text": [
      "enter the first value of interval 0\n",
      "enter the last value of interval 300\n",
      "0\n",
      "1\n",
      "153\n"
     ]
    }
   ],
   "source": [
    "#5. Write a Python Program to Find Armstrong Number in an Interval?\n",
    "s = int(input(\"enter the first value of interval \"))\n",
    "e = int(input(\"enter the last value of interval \"))\n",
    "for arm in range(s,e):\n",
    "    s = len(str(arm))\n",
    "    t = arm\n",
    "    total = 0\n",
    "    for i in range(0,s):\n",
    "        value = t % 10\n",
    "        total += value ** 3\n",
    "        t //= 10\n",
    "    if arm == total:\n",
    "        print(f\"{arm}\")"
   ]
  },
  {
   "cell_type": "code",
   "execution_count": 7,
   "id": "71201201",
   "metadata": {},
   "outputs": [
    {
     "name": "stdout",
     "output_type": "stream",
     "text": [
      "4\n",
      "sum of natural number 10\n"
     ]
    }
   ],
   "source": [
    "#6. Write a Python Program to Find the Sum of Natural Numbers?\n",
    "sum= 0\n",
    "n = int(input())\n",
    "for i in range(n+1):\n",
    "    sum += i\n",
    "print(\"sum of natural number\",sum)"
   ]
  }
 ],
 "metadata": {
  "kernelspec": {
   "display_name": "Python 3 (ipykernel)",
   "language": "python",
   "name": "python3"
  },
  "language_info": {
   "codemirror_mode": {
    "name": "ipython",
    "version": 3
   },
   "file_extension": ".py",
   "mimetype": "text/x-python",
   "name": "python",
   "nbconvert_exporter": "python",
   "pygments_lexer": "ipython3",
   "version": "3.9.7"
  }
 },
 "nbformat": 4,
 "nbformat_minor": 5
}
