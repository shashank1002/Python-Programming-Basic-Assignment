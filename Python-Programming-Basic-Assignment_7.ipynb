{
 "cells": [
  {
   "cell_type": "code",
   "execution_count": 1,
   "id": "dc85efa1",
   "metadata": {},
   "outputs": [
    {
     "name": "stdout",
     "output_type": "stream",
     "text": [
      "enter the list or nested list [[1,2,3,4],[1,3,2,4]]\n",
      "enter the list or nested list [[1,2,3,4],[1,2,3,4]]\n"
     ]
    },
    {
     "data": {
      "text/plain": [
       "array([[2, 4, 6, 8],\n",
       "       [2, 5, 5, 8]])"
      ]
     },
     "execution_count": 1,
     "metadata": {},
     "output_type": "execute_result"
    }
   ],
   "source": [
    "#1. Write a Python Program to find sum of array?\n",
    "\n",
    "import numpy\n",
    "def add_array(l,l1):\n",
    "    \"\"\"add the array\"\"\"\n",
    "    arr = numpy.array(l)\n",
    "    arr1 = numpy.array(l1)\n",
    "    return arr + arr1\n",
    "\n",
    "arr = eval(input(\"enter the list or nested list \"))\n",
    "arr1 = eval(input(\"enter the list or nested list \"))\n",
    "\n",
    "add_array(arr,arr1)"
   ]
  },
  {
   "cell_type": "code",
   "execution_count": 2,
   "id": "f9f561ed",
   "metadata": {},
   "outputs": [
    {
     "name": "stdout",
     "output_type": "stream",
     "text": [
      "enter the list or nested list [[1,2,3,4],[1,2,3,4]]\n"
     ]
    },
    {
     "data": {
      "text/plain": [
       "4"
      ]
     },
     "execution_count": 2,
     "metadata": {},
     "output_type": "execute_result"
    }
   ],
   "source": [
    "#2. Write a Python Program to find largest element in an array?\n",
    "\n",
    "import numpy\n",
    "def largest_array(l):\n",
    "    \"\"\"add the array\"\"\"\n",
    "    arr1 = numpy.array(l)\n",
    "    return numpy.max(arr)\n",
    "\n",
    "arr = eval(input(\"enter the list or nested list \"))\n",
    "largest_array(arr)"
   ]
  },
  {
   "cell_type": "code",
   "execution_count": 3,
   "id": "5ebd94e7",
   "metadata": {},
   "outputs": [
    {
     "name": "stdout",
     "output_type": "stream",
     "text": [
      "enter the nested list [[1,2,3,4],[1,2,3,4]]\n"
     ]
    },
    {
     "data": {
      "text/plain": [
       "array([[1., 1.],\n",
       "       [2., 2.],\n",
       "       [3., 3.],\n",
       "       [4., 4.]])"
      ]
     },
     "execution_count": 3,
     "metadata": {},
     "output_type": "execute_result"
    }
   ],
   "source": [
    "#3.Write a Python Program for array rotation?\n",
    "\n",
    "import numpy\n",
    "def rotate_array(l):\n",
    "    \"\"\"rotate the array\"\"\"\n",
    "    \n",
    "    arr1 = numpy.array(l)\n",
    "    shape = (arr1.shape[1],arr1.shape[0])\n",
    "    new_arr = numpy.empty(shape)\n",
    "    for i in range(arr1.shape[1]):\n",
    "        for j in range(arr1.shape[0]-1,-1,-1):\n",
    "            new_arr[i,j-1]=arr1[j,i]\n",
    "    return new_arr\n",
    "    \n",
    "\n",
    "arr = eval(input(\"enter the nested list \"))\n",
    "rotate_array(arr)"
   ]
  },
  {
   "cell_type": "code",
   "execution_count": 4,
   "id": "c13c23f0",
   "metadata": {},
   "outputs": [
    {
     "name": "stdout",
     "output_type": "stream",
     "text": [
      "enter the list [1,2,3,4]\n",
      "enter the index 2\n"
     ]
    },
    {
     "data": {
      "text/plain": [
       "array([3, 4, 1, 2])"
      ]
     },
     "execution_count": 4,
     "metadata": {},
     "output_type": "execute_result"
    }
   ],
   "source": [
    "#4.Write a Python Program to split the array and add the first part to the end?\n",
    "\n",
    "def first_at_end(l):\n",
    "    k = int(input(\"enter the index \"))\n",
    "    arr = numpy.array(l)\n",
    "    for i in range(k):\n",
    "        x = arr[0]\n",
    "        for j in range(len(arr)-1):\n",
    "            arr[j] = arr[j+1]\n",
    "        arr[j+1]=x\n",
    "    return arr\n",
    "    \n",
    "arr = eval(input(\"enter the list \"))\n",
    "first_at_end(arr)"
   ]
  },
  {
   "cell_type": "code",
   "execution_count": 21,
   "id": "8db3bd46",
   "metadata": {},
   "outputs": [
    {
     "name": "stdout",
     "output_type": "stream",
     "text": [
      "[1,2,3,4]\n"
     ]
    },
    {
     "data": {
      "text/plain": [
       "True"
      ]
     },
     "execution_count": 21,
     "metadata": {},
     "output_type": "execute_result"
    }
   ],
   "source": [
    "#5. Write a Python Program to check if given array is Monotonic?\n",
    "\n",
    "arr=eval(input())\n",
    "a=numpy.array(arr)\n",
    "def monotonic(arr):\n",
    "    return all(arr[i]<=arr[i+1]  for i in range(len(arr)-1)) or all( arr[i]>=arr[i+1]for i in range(len(arr)-1))\n",
    "monotonic(a)"
   ]
  }
 ],
 "metadata": {
  "kernelspec": {
   "display_name": "Python 3 (ipykernel)",
   "language": "python",
   "name": "python3"
  },
  "language_info": {
   "codemirror_mode": {
    "name": "ipython",
    "version": 3
   },
   "file_extension": ".py",
   "mimetype": "text/x-python",
   "name": "python",
   "nbconvert_exporter": "python",
   "pygments_lexer": "ipython3",
   "version": "3.9.7"
  }
 },
 "nbformat": 4,
 "nbformat_minor": 5
}
