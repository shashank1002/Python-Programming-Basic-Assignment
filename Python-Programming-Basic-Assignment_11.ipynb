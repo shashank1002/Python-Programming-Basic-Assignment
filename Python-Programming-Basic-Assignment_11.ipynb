{
 "cells": [
  {
   "cell_type": "code",
   "execution_count": 10,
   "id": "d7b43fb8",
   "metadata": {},
   "outputs": [
    {
     "data": {
      "text/plain": [
       "['python', 'home']"
      ]
     },
     "execution_count": 10,
     "metadata": {},
     "output_type": "execute_result"
    }
   ],
   "source": [
    "#1. Write a Python program to find words which are greater than given length k?\n",
    "def Word_Greater(n,k):\n",
    "    \"\"\"input should be list and length to compare\"\"\"\n",
    "    word = []\n",
    "    for i in n:\n",
    "        if type(i) == str:\n",
    "            if len(i) > k:\n",
    "                word.append(i)\n",
    "    return word\n",
    "Word_Greater([\"my\",\"python\",3,\"home\"],3)"
   ]
  },
  {
   "cell_type": "code",
   "execution_count": 15,
   "id": "72f212df",
   "metadata": {},
   "outputs": [
    {
     "data": {
      "text/plain": [
       "['my', 'python', 3]"
      ]
     },
     "execution_count": 15,
     "metadata": {},
     "output_type": "execute_result"
    }
   ],
   "source": [
    "#2. Write a Python program for removing i-th character from a string?\n",
    "def Remove_Char(n,i):\n",
    "    \"\"\"input should be list and ith index\"\"\"\n",
    "    if type(n[i]) == str:\n",
    "        n.pop(i)\n",
    "    return n\n",
    "Remove_Char([\"my\",\"python\",3,\"home\"],3)"
   ]
  },
  {
   "cell_type": "code",
   "execution_count": 18,
   "id": "6dcdffb5",
   "metadata": {},
   "outputs": [
    {
     "data": {
      "text/plain": [
       "['split', 'join', 'string']"
      ]
     },
     "execution_count": 18,
     "metadata": {},
     "output_type": "execute_result"
    }
   ],
   "source": [
    "#3. Write a Python program to split and join a string?\n",
    "def join_split(n,do):\n",
    "    \"\"\"input as string\"\"\"\n",
    "    if do == \"split\":\n",
    "        return n.split()\n",
    "    elif do == \"join\":\n",
    "        return ' '.join(n)\n",
    "join_split(\"split join string\",\"split\")"
   ]
  },
  {
   "cell_type": "code",
   "execution_count": 46,
   "id": "62fd2380",
   "metadata": {},
   "outputs": [
    {
     "data": {
      "text/plain": [
       "True"
      ]
     },
     "execution_count": 46,
     "metadata": {},
     "output_type": "execute_result"
    }
   ],
   "source": [
    "#4. Write a Python to check if a given string is binary string or not?\n",
    "def Binary_String(n):\n",
    "    n = set(n)\n",
    "    d = {'0','1'}\n",
    "    if n == d or n == {'0'} or n == {'1'}:\n",
    "        return True\n",
    "    return False\n",
    "Binary_String(\"010100111\")"
   ]
  },
  {
   "cell_type": "code",
   "execution_count": 35,
   "id": "e7c5ce3e",
   "metadata": {},
   "outputs": [
    {
     "data": {
      "text/plain": [
       "{'is', 'not'}"
      ]
     },
     "execution_count": 35,
     "metadata": {},
     "output_type": "execute_result"
    }
   ],
   "source": [
    "#5. Write a Python program to find uncommon words from two Strings?\n",
    "def Uncommon(n,i):\n",
    "    n = set(n.split())\n",
    "    i = set(i.split())\n",
    "    return n.symmetric_difference(i)\n",
    "Uncommon(\"this is string\",\"this not string\")"
   ]
  },
  {
   "cell_type": "code",
   "execution_count": 56,
   "id": "4be8debb",
   "metadata": {},
   "outputs": [
    {
     "data": {
      "text/plain": [
       "{'a', 'is'}"
      ]
     },
     "execution_count": 56,
     "metadata": {},
     "output_type": "execute_result"
    }
   ],
   "source": [
    "#6. Write a Python to find all duplicate characters in string?\n",
    "def duplicate(n):\n",
    "    n = n.split()\n",
    "    empty = []\n",
    "    for i in n:\n",
    "        if n.count(i) > 1:\n",
    "            empty.append(i)\n",
    "    return set(empty)\n",
    "duplicate(\"this is a string in a python\")"
   ]
  },
  {
   "cell_type": "code",
   "execution_count": 20,
   "id": "8e71a303",
   "metadata": {},
   "outputs": [
    {
     "data": {
      "text/plain": [
       "True"
      ]
     },
     "execution_count": 20,
     "metadata": {},
     "output_type": "execute_result"
    }
   ],
   "source": [
    "#7. Write a Python Program to check if a string contains any special character?\n",
    "def Special_Char(n):\n",
    "    for i in n:\n",
    "        if i in \"`~!@#$%^&*()_-+{[}|:;\\\"'<,>.\\?/\":\n",
    "            return True\n",
    "    return False\n",
    "Special_Char(\"asdf $\")"
   ]
  }
 ],
 "metadata": {
  "kernelspec": {
   "display_name": "Python 3 (ipykernel)",
   "language": "python",
   "name": "python3"
  },
  "language_info": {
   "codemirror_mode": {
    "name": "ipython",
    "version": 3
   },
   "file_extension": ".py",
   "mimetype": "text/x-python",
   "name": "python",
   "nbconvert_exporter": "python",
   "pygments_lexer": "ipython3",
   "version": "3.9.7"
  }
 },
 "nbformat": 4,
 "nbformat_minor": 5
}
