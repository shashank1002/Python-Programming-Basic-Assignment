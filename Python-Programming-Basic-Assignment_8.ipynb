{
 "cells": [
  {
   "cell_type": "code",
   "execution_count": 1,
   "id": "7c63c7cf",
   "metadata": {},
   "outputs": [
    {
     "name": "stdout",
     "output_type": "stream",
     "text": [
      "enter the list or nested list mat1 [[1,2,3],[4,5,6]]\n",
      "enter the list or nested list mat2 [[2,3,4],[3,5,4]]\n",
      "[[ 3  5  7]\n",
      " [ 7 10 10]]\n"
     ]
    }
   ],
   "source": [
    "#1. Write a Python Program to Add Two Matrices?\n",
    "import numpy as np\n",
    "    \n",
    "try:\n",
    "    def add(n,m):\n",
    "        if type(n) == list and type(m) == list:\n",
    "            mat1 = np.matrix(n)\n",
    "            mat2 = np.matrix(m)\n",
    "            add = np.zeros(mat1.shape)\n",
    "            add = mat1 + mat2\n",
    "        return add\n",
    "\n",
    "    n=eval(input('enter the list or nested list mat1 '))\n",
    "    m=eval(input('enter the list or nested list mat2 '))\n",
    "    total = add(n,m)\n",
    "    print(total)\n",
    "except Exception as e:\n",
    "    print(e)"
   ]
  },
  {
   "cell_type": "code",
   "execution_count": 7,
   "id": "b06950ce",
   "metadata": {},
   "outputs": [
    {
     "name": "stdout",
     "output_type": "stream",
     "text": [
      "enter the list or nested list mat1 [[1,3,4],[1,3,4]]\n",
      "enter the list or nested list mat2 [[1,2,4],[2,4,5],[2,4,5]]\n",
      "[[15 30 39]\n",
      " [15 30 39]]\n"
     ]
    }
   ],
   "source": [
    "#2. Write a Python Program to Multiply Two Matrices?\n",
    "import numpy as np\n",
    "    \n",
    "try:\n",
    "    def mult(n,m):\n",
    "        if type(n) == list and type(m) == list:\n",
    "            mat1 = np.matrix(n)\n",
    "            mat2 = np.matrix(m)\n",
    "            if mat1.shape[1]==mat2.shape[0]:\n",
    "                multiply = np.zeros((mat1.shape[1],mat2.shape[0]))\n",
    "                multiply = mat1 * mat2\n",
    "                return multiply\n",
    "            else:\n",
    "                return \"getting some error\"\n",
    "\n",
    "    n=eval(input('enter the list or nested list mat1 '))\n",
    "    m=eval(input('enter the list or nested list mat2 '))\n",
    "    total = mult(n,m)\n",
    "    print(total)\n",
    "except Exception as e:\n",
    "    print(e)"
   ]
  },
  {
   "cell_type": "code",
   "execution_count": 8,
   "id": "843b602a",
   "metadata": {},
   "outputs": [
    {
     "name": "stdout",
     "output_type": "stream",
     "text": [
      "enter the list or nested list mat1 [[2,3,5],[2,3,4]]\n",
      "[[2. 2.]\n",
      " [3. 3.]\n",
      " [5. 4.]]\n"
     ]
    }
   ],
   "source": [
    "#3. Write a Python Program to Transpose a Matrix?\n",
    "import numpy as np\n",
    "    \n",
    "try:\n",
    "    def trans(n):\n",
    "        mat1 = np.matrix(n)\n",
    "        trans = np.zeros((mat1.shape[1],mat1.shape[0]))\n",
    "        for i in range(mat1.shape[0]):\n",
    "            trans[:,i] = mat1[i,:]\n",
    "        return trans[:,:]\n",
    "    n=eval(input('enter the list or nested list mat1 '))\n",
    "    total = trans(n)\n",
    "    print(total)\n",
    "except Exception as e:\n",
    "    print(e)"
   ]
  },
  {
   "cell_type": "code",
   "execution_count": 18,
   "id": "4520673e",
   "metadata": {},
   "outputs": [
    {
     "name": "stdout",
     "output_type": "stream",
     "text": [
      "Python Programming Basic Assignment_5\n",
      "Assignment_5 Basic Programming Python\n"
     ]
    }
   ],
   "source": [
    "#4. Write a Python Program to Sort Words in Alphabetic Order?\n",
    "def sort(n):\n",
    "    s = n.split()\n",
    "    s.sort()\n",
    "    return ' '.join(s)\n",
    "n = input()\n",
    "w = sort(n)\n",
    "print(w)"
   ]
  },
  {
   "cell_type": "code",
   "execution_count": 19,
   "id": "d9955573",
   "metadata": {},
   "outputs": [
    {
     "name": "stdout",
     "output_type": "stream",
     "text": [
      "Pyt#$%h^&*on Programming Ba#&sic Ass#$^ignment_5\n"
     ]
    },
    {
     "data": {
      "text/plain": [
       "'Python Programming Basic Assignment5'"
      ]
     },
     "execution_count": 19,
     "metadata": {},
     "output_type": "execute_result"
    }
   ],
   "source": [
    "# 5. Write a Python Program to Remove Punctuation From a String?\n",
    "import string\n",
    "def punctutation(n):\n",
    "    str = \"\"\n",
    "    for i in n:\n",
    "        if i not in string.punctuation:\n",
    "            str = str + i\n",
    "    return str\n",
    "n = input()\n",
    "punctutation(n)"
   ]
  }
 ],
 "metadata": {
  "kernelspec": {
   "display_name": "Python 3 (ipykernel)",
   "language": "python",
   "name": "python3"
  },
  "language_info": {
   "codemirror_mode": {
    "name": "ipython",
    "version": 3
   },
   "file_extension": ".py",
   "mimetype": "text/x-python",
   "name": "python",
   "nbconvert_exporter": "python",
   "pygments_lexer": "ipython3",
   "version": "3.9.7"
  }
 },
 "nbformat": 4,
 "nbformat_minor": 5
}
